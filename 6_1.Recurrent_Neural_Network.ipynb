{
  "nbformat": 4,
  "nbformat_minor": 0,
  "metadata": {
    "kernelspec": {
      "name": "python3",
      "display_name": "Python 3"
    },
    "language_info": {
      "codemirror_mode": {
        "name": "ipython",
        "version": 3
      },
      "file_extension": ".py",
      "mimetype": "text/x-python",
      "name": "python",
      "nbconvert_exporter": "python",
      "pygments_lexer": "ipython3",
      "version": "3.7.3"
    },
    "colab": {
      "name": "6_1.Recurrent_Neural_Network.ipynb",
      "provenance": [],
      "collapsed_sections": []
    },
    "accelerator": "GPU"
  },
  "cells": [
    {
      "cell_type": "code",
      "metadata": {
        "id": "IFErWZFyC7cx",
        "colab_type": "code",
        "colab": {
          "base_uri": "https://localhost:8080/",
          "height": 54
        },
        "outputId": "a84b06a7-80d9-4a03-88fb-c85aa50a17e3"
      },
      "source": [
        "## library import\n",
        "import tensorflow as tf\n",
        "from tensorflow import keras\n",
        "from tensorflow.keras import layers\n",
        "from tensorflow.keras.utils import to_categorical\n",
        "import numpy as np\n",
        "import matplotlib.pyplot as plt\n",
        "import os\n",
        "\n",
        "print(tf.__version__)\n",
        "print(keras.__version__)"
      ],
      "execution_count": 1,
      "outputs": [
        {
          "output_type": "stream",
          "text": [
            "2.2.0\n",
            "2.3.0-tf\n"
          ],
          "name": "stdout"
        }
      ]
    },
    {
      "cell_type": "markdown",
      "metadata": {
        "id": "cDH9IFkvpexS",
        "colab_type": "text"
      },
      "source": [
        "# RNN을 이용하여 MNIST Classification 학습하기 \n",
        "  \n",
        "\n",
        "MNIST Image를 한 line씩 RNN에 입력하여 classification을 하는 실습을 해보겠습니다."
      ]
    },
    {
      "cell_type": "code",
      "metadata": {
        "id": "6aFxV5JNdK6z",
        "colab_type": "code",
        "colab": {}
      },
      "source": [
        "## Hyper-parameters\n",
        "learning_rate = 0.001\n",
        "N_EPOCHS = 20\n",
        "N_BATCH = 100\n",
        "N_CLASS = 10"
      ],
      "execution_count": null,
      "outputs": []
    },
    {
      "cell_type": "code",
      "metadata": {
        "id": "miNAOFXNpl8T",
        "colab_type": "code",
        "colab": {}
      },
      "source": [
        "## Data 준비\n",
        "## MNIST Dataset #########################################################\n",
        "mnist = keras.datasets.mnist\n",
        "class_names = ['0', '1', '2', '3', '4', '5', '6', '7', '8', '9']\n",
        "##########################################################################\n",
        "\n",
        "## Fashion MNIST Dataset #################################################\n",
        "#mnist = keras.datasets.fashion_mnist\n",
        "#class_names = ['T-shirt/top', 'Trouser', 'Pullover', 'Dress', 'Coat', 'Sandal', 'Shirt', 'Sneaker', 'Bag', 'Ankle boot']\n",
        "##########################################################################"
      ],
      "execution_count": null,
      "outputs": []
    },
    {
      "cell_type": "code",
      "metadata": {
        "id": "MWXMlAvBprPr",
        "colab_type": "code",
        "colab": {
          "base_uri": "https://localhost:8080/",
          "height": 73
        },
        "outputId": "11395ed6-1a01-488e-9597-ef102565a121"
      },
      "source": [
        "## Dataset 만들기\n",
        "(train_images, train_labels), (test_images, test_labels) = mnist.load_data()\n",
        "\n",
        "N_TRAIN = train_images.shape[0]\n",
        "N_TEST = test_images.shape[0]\n",
        "print(train_images.shape, test_images.shape)"
      ],
      "execution_count": null,
      "outputs": [
        {
          "output_type": "stream",
          "text": [
            "Downloading data from https://storage.googleapis.com/tensorflow/tf-keras-datasets/mnist.npz\n",
            "11493376/11490434 [==============================] - 0s 0us/step\n",
            "(60000, 28, 28) (10000, 28, 28)\n"
          ],
          "name": "stdout"
        }
      ]
    },
    {
      "cell_type": "code",
      "metadata": {
        "id": "RddODKrhpypG",
        "colab_type": "code",
        "colab": {}
      },
      "source": [
        "# pixel값을 0~1사이 범위로 조정\n",
        "train_images = train_images.astype(np.float32) / 255.\n",
        "test_images = test_images.astype(np.float32) / 255.\n",
        "\n",
        "# label을 onehot-encoding\n",
        "train_labels = to_categorical(train_labels, 10)\n",
        "test_labels = to_categorical(test_labels, 10)    \n",
        "\n",
        "# Dataset 구성\n",
        "train_dataset = tf.data.Dataset.from_tensor_slices((train_images, train_labels)).shuffle(\n",
        "                buffer_size=100000).batch(N_BATCH).repeat()\n",
        "test_dataset = tf.data.Dataset.from_tensor_slices((test_images, test_labels)).batch(N_BATCH)"
      ],
      "execution_count": null,
      "outputs": []
    },
    {
      "cell_type": "code",
      "metadata": {
        "id": "yTG07duup1hk",
        "colab_type": "code",
        "colab": {}
      },
      "source": [
        "## Model 만들기\n",
        "def create_model():\n",
        "    model = keras.Sequential()\n",
        "    model.add(layers.LSTM(units=256, return_sequences=False, input_shape=(28,28)))\n",
        "    model.add(layers.Dense(units=10, activation='softmax'))\n",
        "    return model"
      ],
      "execution_count": null,
      "outputs": []
    },
    {
      "cell_type": "code",
      "metadata": {
        "id": "cDs9Ff3nqOgQ",
        "colab_type": "code",
        "colab": {
          "base_uri": "https://localhost:8080/",
          "height": 241
        },
        "outputId": "a1b0e72c-ba83-49ac-db7f-55791e0f5d4e"
      },
      "source": [
        "## Create model, compile & summary\n",
        "model = create_model()\n",
        "model.compile(optimizer=tf.keras.optimizers.Adam(learning_rate),\n",
        "              loss='categorical_crossentropy',\n",
        "              metrics=['accuracy'])\n",
        "model.summary()"
      ],
      "execution_count": null,
      "outputs": [
        {
          "output_type": "stream",
          "text": [
            "Model: \"sequential\"\n",
            "_________________________________________________________________\n",
            "Layer (type)                 Output Shape              Param #   \n",
            "=================================================================\n",
            "lstm (LSTM)                  (None, 256)               291840    \n",
            "_________________________________________________________________\n",
            "dense (Dense)                (None, 10)                2570      \n",
            "=================================================================\n",
            "Total params: 294,410\n",
            "Trainable params: 294,410\n",
            "Non-trainable params: 0\n",
            "_________________________________________________________________\n"
          ],
          "name": "stdout"
        }
      ]
    },
    {
      "cell_type": "code",
      "metadata": {
        "id": "aMqlbyR1NVbC",
        "colab_type": "code",
        "colab": {
          "base_uri": "https://localhost:8080/",
          "height": 55
        },
        "outputId": "3aa174e1-11f5-4892-b402-64173bfce6dc"
      },
      "source": [
        "## 학습 전에 결과 확인\n",
        "model.evaluate(test_dataset)"
      ],
      "execution_count": null,
      "outputs": [
        {
          "output_type": "stream",
          "text": [
            "100/100 [==============================] - 0s 4ms/step - loss: 2.2994 - accuracy: 0.1326\n"
          ],
          "name": "stdout"
        },
        {
          "output_type": "execute_result",
          "data": {
            "text/plain": [
              "[2.2993505001068115, 0.13259999454021454]"
            ]
          },
          "metadata": {
            "tags": []
          },
          "execution_count": 8
        }
      ]
    },
    {
      "cell_type": "code",
      "metadata": {
        "id": "x-6dXUpOrZOS",
        "colab_type": "code",
        "colab": {
          "base_uri": "https://localhost:8080/",
          "height": 36
        },
        "outputId": "dddbe498-ae01-4065-f13e-f24e7e2e5e83"
      },
      "source": [
        "## Parameters for training\n",
        "steps_per_epoch = N_TRAIN//N_BATCH\n",
        "validation_steps = N_TEST//N_BATCH\n",
        "print(steps_per_epoch, validation_steps)"
      ],
      "execution_count": null,
      "outputs": [
        {
          "output_type": "stream",
          "text": [
            "600 100\n"
          ],
          "name": "stdout"
        }
      ]
    },
    {
      "cell_type": "code",
      "metadata": {
        "id": "bAL4CxnLrb0i",
        "colab_type": "code",
        "colab": {
          "base_uri": "https://localhost:8080/",
          "height": 764
        },
        "outputId": "5307547c-5380-4dcb-be89-889eecd3bec8"
      },
      "source": [
        "## Training\n",
        "history = model.fit(train_dataset, epochs=N_EPOCHS, steps_per_epoch=steps_per_epoch, \n",
        "                    validation_data=test_dataset, validation_steps=validation_steps)"
      ],
      "execution_count": null,
      "outputs": [
        {
          "output_type": "stream",
          "text": [
            "Epoch 1/20\n",
            "600/600 [==============================] - 4s 7ms/step - loss: 0.4020 - accuracy: 0.8686 - val_loss: 0.1463 - val_accuracy: 0.9533\n",
            "Epoch 2/20\n",
            "600/600 [==============================] - 4s 7ms/step - loss: 0.1182 - accuracy: 0.9639 - val_loss: 0.0877 - val_accuracy: 0.9723\n",
            "Epoch 3/20\n",
            "600/600 [==============================] - 4s 7ms/step - loss: 0.0797 - accuracy: 0.9758 - val_loss: 0.0710 - val_accuracy: 0.9780\n",
            "Epoch 4/20\n",
            "600/600 [==============================] - 4s 7ms/step - loss: 0.0596 - accuracy: 0.9815 - val_loss: 0.0572 - val_accuracy: 0.9828\n",
            "Epoch 5/20\n",
            "600/600 [==============================] - 4s 7ms/step - loss: 0.0470 - accuracy: 0.9857 - val_loss: 0.0497 - val_accuracy: 0.9846\n",
            "Epoch 6/20\n",
            "600/600 [==============================] - 4s 7ms/step - loss: 0.0412 - accuracy: 0.9876 - val_loss: 0.0563 - val_accuracy: 0.9840\n",
            "Epoch 7/20\n",
            "600/600 [==============================] - 4s 7ms/step - loss: 0.0342 - accuracy: 0.9893 - val_loss: 0.0470 - val_accuracy: 0.9859\n",
            "Epoch 8/20\n",
            "600/600 [==============================] - 4s 7ms/step - loss: 0.0298 - accuracy: 0.9909 - val_loss: 0.0577 - val_accuracy: 0.9837\n",
            "Epoch 9/20\n",
            "600/600 [==============================] - 4s 7ms/step - loss: 0.0272 - accuracy: 0.9914 - val_loss: 0.0476 - val_accuracy: 0.9853\n",
            "Epoch 10/20\n",
            "600/600 [==============================] - 4s 7ms/step - loss: 0.0241 - accuracy: 0.9927 - val_loss: 0.0484 - val_accuracy: 0.9851\n",
            "Epoch 11/20\n",
            "600/600 [==============================] - 4s 7ms/step - loss: 0.0224 - accuracy: 0.9930 - val_loss: 0.0400 - val_accuracy: 0.9880\n",
            "Epoch 12/20\n",
            "600/600 [==============================] - 4s 7ms/step - loss: 0.0178 - accuracy: 0.9943 - val_loss: 0.0392 - val_accuracy: 0.9893\n",
            "Epoch 13/20\n",
            "600/600 [==============================] - 4s 7ms/step - loss: 0.0198 - accuracy: 0.9934 - val_loss: 0.0389 - val_accuracy: 0.9883\n",
            "Epoch 14/20\n",
            "600/600 [==============================] - 4s 7ms/step - loss: 0.0173 - accuracy: 0.9944 - val_loss: 0.0372 - val_accuracy: 0.9890\n",
            "Epoch 15/20\n",
            "600/600 [==============================] - 4s 7ms/step - loss: 0.0135 - accuracy: 0.9959 - val_loss: 0.0378 - val_accuracy: 0.9903\n",
            "Epoch 16/20\n",
            "600/600 [==============================] - 4s 7ms/step - loss: 0.0115 - accuracy: 0.9969 - val_loss: 0.0456 - val_accuracy: 0.9886\n",
            "Epoch 17/20\n",
            "600/600 [==============================] - 4s 7ms/step - loss: 0.0122 - accuracy: 0.9963 - val_loss: 0.0393 - val_accuracy: 0.9891\n",
            "Epoch 18/20\n",
            "600/600 [==============================] - 4s 7ms/step - loss: 0.0129 - accuracy: 0.9960 - val_loss: 0.0325 - val_accuracy: 0.9909\n",
            "Epoch 19/20\n",
            "600/600 [==============================] - 4s 7ms/step - loss: 0.0111 - accuracy: 0.9963 - val_loss: 0.0477 - val_accuracy: 0.9874\n",
            "Epoch 20/20\n",
            "600/600 [==============================] - 4s 7ms/step - loss: 0.0117 - accuracy: 0.9962 - val_loss: 0.0413 - val_accuracy: 0.9895\n"
          ],
          "name": "stdout"
        }
      ]
    },
    {
      "cell_type": "code",
      "metadata": {
        "id": "DktblJMwreQ5",
        "colab_type": "code",
        "colab": {}
      },
      "source": [
        "## 결과 확인\n",
        "def plot_image(i, predictions_array, true_label, img):\n",
        "    predictions_array, true_label, img = predictions_array[i], true_label[i], img[i]\n",
        "    plt.grid(False)\n",
        "    plt.xticks([])\n",
        "    plt.yticks([])\n",
        "\n",
        "    plt.imshow(img,cmap=plt.cm.binary)\n",
        "\n",
        "    predicted_label = np.argmax(predictions_array)\n",
        "    if predicted_label == true_label:\n",
        "        color = 'blue'\n",
        "    else:\n",
        "        color = 'red'\n",
        "\n",
        "    plt.xlabel(\"{} {:2.0f}% ({})\".format(class_names[predicted_label],\n",
        "                                100*np.max(predictions_array),\n",
        "                                class_names[true_label]),\n",
        "                                color=color)\n",
        "\n",
        "def plot_value_array(i, predictions_array, true_label):\n",
        "    predictions_array, true_label = predictions_array[i], true_label[i]\n",
        "    plt.grid(False)\n",
        "    #plt.xticks([])\n",
        "    plt.xticks(range(N_CLASS), class_names, rotation=90)\n",
        "    plt.yticks([])\n",
        "    thisplot = plt.bar(range(N_CLASS), predictions_array, color=\"#777777\")\n",
        "    plt.ylim([0, 1]) \n",
        "    predicted_label = np.argmax(predictions_array)\n",
        " \n",
        "    thisplot[predicted_label].set_color('red')\n",
        "    thisplot[true_label].set_color('blue')"
      ],
      "execution_count": null,
      "outputs": []
    },
    {
      "cell_type": "code",
      "metadata": {
        "id": "d8o6MGhtryj7",
        "colab_type": "code",
        "colab": {
          "base_uri": "https://localhost:8080/",
          "height": 1000
        },
        "outputId": "110002b5-96f7-47e0-9b41-9dda7cf4dcbd"
      },
      "source": [
        "rnd_idx = np.random.randint(1, N_TEST//N_BATCH)\n",
        "img_cnt = 0\n",
        "for images, labels in test_dataset:\n",
        "    img_cnt += 1\n",
        "    if img_cnt != rnd_idx:\n",
        "        continue\n",
        "    predictions = model(images, training=False)\n",
        "    num_rows = 5\n",
        "    num_cols = 3\n",
        "    num_images = num_rows*num_cols\n",
        "    labels = tf.argmax(labels, axis=-1)\n",
        "    plt.figure(figsize=(3*2*num_cols, 4*num_rows))\n",
        "    plt.subplots_adjust(hspace=1.0)\n",
        "    for i in range(num_images):\n",
        "        plt.subplot(num_rows, 2*num_cols, 2*i+1)\n",
        "        plot_image(i, predictions.numpy(), labels.numpy(), images.numpy())\n",
        "        plt.subplot(num_rows, 2*num_cols, 2*i+2)\n",
        "        plot_value_array(i, predictions.numpy(), labels.numpy())        \n",
        "    break"
      ],
      "execution_count": null,
      "outputs": [
        {
          "output_type": "display_data",
          "data": {
            "image/png": "[encoded data removed]",
            "text/plain": [
              "<Figure size 1296x1440 with 30 Axes>"
            ]
          },
          "metadata": {
            "tags": [],
            "needs_background": "light"
          }
        }
      ]
    },
    {
      "cell_type": "markdown",
      "metadata": {
        "id": "bb9hbaZGsLb7",
        "colab_type": "text"
      },
      "source": [
        "# Simple Language Model with RNN\n",
        "\n",
        "RNN을 이용하여 간단한 language model을 학습시켜 보겠습니다."
      ]
    },
    {
      "cell_type": "code",
      "metadata": {
        "id": "mVo2uGX0r3nK",
        "colab_type": "code",
        "colab": {}
      },
      "source": [
        "## 학습시킬 문장\n",
        "sentence = (\"if you want to build a ship, don't drum up people together to \"\n",
        "            \"collect wood and don't assign them tasks and work, but rather \"\n",
        "            \"teach them to long for the endless immensity of the sea.\")\n",
        "\n",
        "## index를 주면 charcter로 바꿔주는 list\n",
        "idx2char = list(set(sentence))\n",
        "## character를 주면 index로 바꿔주는 dictionary\n",
        "char2idx = {w: i for i, w in enumerate(idx2char)}"
      ],
      "execution_count": null,
      "outputs": []
    },
    {
      "cell_type": "code",
      "metadata": {
        "id": "URoWK4z5sRgt",
        "colab_type": "code",
        "colab": {
          "base_uri": "https://localhost:8080/",
          "height": 503
        },
        "outputId": "5e7644af-a284-4718-fdbb-553d8e356218"
      },
      "source": [
        "idx2char, len(idx2char)"
      ],
      "execution_count": null,
      "outputs": [
        {
          "output_type": "execute_result",
          "data": {
            "text/plain": [
              "(['d',\n",
              "  \"'\",\n",
              "  'e',\n",
              "  's',\n",
              "  'r',\n",
              "  'l',\n",
              "  'm',\n",
              "  ' ',\n",
              "  ',',\n",
              "  'w',\n",
              "  'g',\n",
              "  'y',\n",
              "  'c',\n",
              "  't',\n",
              "  'p',\n",
              "  'h',\n",
              "  'n',\n",
              "  'a',\n",
              "  'k',\n",
              "  '.',\n",
              "  'i',\n",
              "  'b',\n",
              "  'u',\n",
              "  'o',\n",
              "  'f'],\n",
              " 25)"
            ]
          },
          "metadata": {
            "tags": []
          },
          "execution_count": 14
        }
      ]
    },
    {
      "cell_type": "code",
      "metadata": {
        "id": "Vxq8FLjTsTZI",
        "colab_type": "code",
        "colab": {
          "base_uri": "https://localhost:8080/",
          "height": 484
        },
        "outputId": "90ec5701-ce81-4d4e-c42b-e1188dc01637"
      },
      "source": [
        "char2idx"
      ],
      "execution_count": null,
      "outputs": [
        {
          "output_type": "execute_result",
          "data": {
            "text/plain": [
              "{' ': 7,\n",
              " \"'\": 1,\n",
              " ',': 8,\n",
              " '.': 19,\n",
              " 'a': 17,\n",
              " 'b': 21,\n",
              " 'c': 12,\n",
              " 'd': 0,\n",
              " 'e': 2,\n",
              " 'f': 24,\n",
              " 'g': 10,\n",
              " 'h': 15,\n",
              " 'i': 20,\n",
              " 'k': 18,\n",
              " 'l': 5,\n",
              " 'm': 6,\n",
              " 'n': 16,\n",
              " 'o': 23,\n",
              " 'p': 14,\n",
              " 'r': 4,\n",
              " 's': 3,\n",
              " 't': 13,\n",
              " 'u': 22,\n",
              " 'w': 9,\n",
              " 'y': 11}"
            ]
          },
          "metadata": {
            "tags": []
          },
          "execution_count": 15
        }
      ]
    },
    {
      "cell_type": "code",
      "metadata": {
        "id": "4CaTSzEtsVjn",
        "colab_type": "code",
        "colab": {
          "base_uri": "https://localhost:8080/",
          "height": 36
        },
        "outputId": "b25222b0-6b4d-4747-8095-72b054931bb4"
      },
      "source": [
        "## HyperParameters\n",
        "data_dim = len(idx2char)\n",
        "hidden_size = len(idx2char)\n",
        "num_classes = len(idx2char)\n",
        "sequence_length = 10  # Any arbitrary number\n",
        "learning_rate = 0.1\n",
        "training_epochs = 200\n",
        "print(num_classes)"
      ],
      "execution_count": null,
      "outputs": [
        {
          "output_type": "stream",
          "text": [
            "25\n"
          ],
          "name": "stdout"
        }
      ]
    },
    {
      "cell_type": "code",
      "metadata": {
        "id": "Z8DCEctHsZ-F",
        "colab_type": "code",
        "colab": {
          "base_uri": "https://localhost:8080/",
          "height": 1000
        },
        "outputId": "2e4d6d1b-f0de-4c30-b92a-7afcd2ab8252"
      },
      "source": [
        "## Dataset\n",
        "dataX = []\n",
        "dataY = []\n",
        "for i in range(0, len(sentence) - sequence_length):\n",
        "    x_str = sentence[i:i + sequence_length]\n",
        "    y_str = sentence[i + 1: i + sequence_length + 1]\n",
        "    print(i, x_str, '->', y_str)\n",
        "\n",
        "    x = [char2idx[c] for c in x_str]  # x str to index\n",
        "    y = [char2idx[c] for c in y_str]  # y str to index\n",
        "\n",
        "    dataX.append(x)\n",
        "    dataY.append(y)\n",
        "\n",
        "batch_size = len(dataX)"
      ],
      "execution_count": null,
      "outputs": [
        {
          "output_type": "stream",
          "text": [
            "0 if you wan -> f you want\n",
            "1 f you want ->  you want \n",
            "2  you want  -> you want t\n",
            "3 you want t -> ou want to\n",
            "4 ou want to -> u want to \n",
            "5 u want to  ->  want to b\n",
            "6  want to b -> want to bu\n",
            "7 want to bu -> ant to bui\n",
            "8 ant to bui -> nt to buil\n",
            "9 nt to buil -> t to build\n",
            "10 t to build ->  to build \n",
            "11  to build  -> to build a\n",
            "12 to build a -> o build a \n",
            "13 o build a  ->  build a s\n",
            "14  build a s -> build a sh\n",
            "15 build a sh -> uild a shi\n",
            "16 uild a shi -> ild a ship\n",
            "17 ild a ship -> ld a ship,\n",
            "18 ld a ship, -> d a ship, \n",
            "19 d a ship,  ->  a ship, d\n",
            "20  a ship, d -> a ship, do\n",
            "21 a ship, do ->  ship, don\n",
            "22  ship, don -> ship, don'\n",
            "23 ship, don' -> hip, don't\n",
            "24 hip, don't -> ip, don't \n",
            "25 ip, don't  -> p, don't d\n",
            "26 p, don't d -> , don't dr\n",
            "27 , don't dr ->  don't dru\n",
            "28  don't dru -> don't drum\n",
            "29 don't drum -> on't drum \n",
            "30 on't drum  -> n't drum u\n",
            "31 n't drum u -> 't drum up\n",
            "32 't drum up -> t drum up \n",
            "33 t drum up  ->  drum up p\n",
            "34  drum up p -> drum up pe\n",
            "35 drum up pe -> rum up peo\n",
            "36 rum up peo -> um up peop\n",
            "37 um up peop -> m up peopl\n",
            "38 m up peopl ->  up people\n",
            "39  up people -> up people \n",
            "40 up people  -> p people t\n",
            "41 p people t ->  people to\n",
            "42  people to -> people tog\n",
            "43 people tog -> eople toge\n",
            "44 eople toge -> ople toget\n",
            "45 ople toget -> ple togeth\n",
            "46 ple togeth -> le togethe\n",
            "47 le togethe -> e together\n",
            "48 e together ->  together \n",
            "49  together  -> together t\n",
            "50 together t -> ogether to\n",
            "51 ogether to -> gether to \n",
            "52 gether to  -> ether to c\n",
            "53 ether to c -> ther to co\n",
            "54 ther to co -> her to col\n",
            "55 her to col -> er to coll\n",
            "56 er to coll -> r to colle\n",
            "57 r to colle ->  to collec\n",
            "58  to collec -> to collect\n",
            "59 to collect -> o collect \n",
            "60 o collect  ->  collect w\n",
            "61  collect w -> collect wo\n",
            "62 collect wo -> ollect woo\n",
            "63 ollect woo -> llect wood\n",
            "64 llect wood -> lect wood \n",
            "65 lect wood  -> ect wood a\n",
            "66 ect wood a -> ct wood an\n",
            "67 ct wood an -> t wood and\n",
            "68 t wood and ->  wood and \n",
            "69  wood and  -> wood and d\n",
            "70 wood and d -> ood and do\n",
            "71 ood and do -> od and don\n",
            "72 od and don -> d and don'\n",
            "73 d and don' ->  and don't\n",
            "74  and don't -> and don't \n",
            "75 and don't  -> nd don't a\n",
            "76 nd don't a -> d don't as\n",
            "77 d don't as ->  don't ass\n",
            "78  don't ass -> don't assi\n",
            "79 don't assi -> on't assig\n",
            "80 on't assig -> n't assign\n",
            "81 n't assign -> 't assign \n",
            "82 't assign  -> t assign t\n",
            "83 t assign t ->  assign th\n",
            "84  assign th -> assign the\n",
            "85 assign the -> ssign them\n",
            "86 ssign them -> sign them \n",
            "87 sign them  -> ign them t\n",
            "88 ign them t -> gn them ta\n",
            "89 gn them ta -> n them tas\n",
            "90 n them tas ->  them task\n",
            "91  them task -> them tasks\n",
            "92 them tasks -> hem tasks \n",
            "93 hem tasks  -> em tasks a\n",
            "94 em tasks a -> m tasks an\n",
            "95 m tasks an ->  tasks and\n",
            "96  tasks and -> tasks and \n",
            "97 tasks and  -> asks and w\n",
            "98 asks and w -> sks and wo\n",
            "99 sks and wo -> ks and wor\n",
            "100 ks and wor -> s and work\n",
            "101 s and work ->  and work,\n",
            "102  and work, -> and work, \n",
            "103 and work,  -> nd work, b\n",
            "104 nd work, b -> d work, bu\n",
            "105 d work, bu ->  work, but\n",
            "106  work, but -> work, but \n",
            "107 work, but  -> ork, but r\n",
            "108 ork, but r -> rk, but ra\n",
            "109 rk, but ra -> k, but rat\n",
            "110 k, but rat -> , but rath\n",
            "111 , but rath ->  but rathe\n",
            "112  but rathe -> but rather\n",
            "113 but rather -> ut rather \n",
            "114 ut rather  -> t rather t\n",
            "115 t rather t ->  rather te\n",
            "116  rather te -> rather tea\n",
            "117 rather tea -> ather teac\n",
            "118 ather teac -> ther teach\n",
            "119 ther teach -> her teach \n",
            "120 her teach  -> er teach t\n",
            "121 er teach t -> r teach th\n",
            "122 r teach th ->  teach the\n",
            "123  teach the -> teach them\n",
            "124 teach them -> each them \n",
            "125 each them  -> ach them t\n",
            "126 ach them t -> ch them to\n",
            "127 ch them to -> h them to \n",
            "128 h them to  ->  them to l\n",
            "129  them to l -> them to lo\n",
            "130 them to lo -> hem to lon\n",
            "131 hem to lon -> em to long\n",
            "132 em to long -> m to long \n",
            "133 m to long  ->  to long f\n",
            "134  to long f -> to long fo\n",
            "135 to long fo -> o long for\n",
            "136 o long for ->  long for \n",
            "137  long for  -> long for t\n",
            "138 long for t -> ong for th\n",
            "139 ong for th -> ng for the\n",
            "140 ng for the -> g for the \n",
            "141 g for the  ->  for the e\n",
            "142  for the e -> for the en\n",
            "143 for the en -> or the end\n",
            "144 or the end -> r the endl\n",
            "145 r the endl ->  the endle\n",
            "146  the endle -> the endles\n",
            "147 the endles -> he endless\n",
            "148 he endless -> e endless \n",
            "149 e endless  ->  endless i\n",
            "150  endless i -> endless im\n",
            "151 endless im -> ndless imm\n",
            "152 ndless imm -> dless imme\n",
            "153 dless imme -> less immen\n",
            "154 less immen -> ess immens\n",
            "155 ess immens -> ss immensi\n",
            "156 ss immensi -> s immensit\n",
            "157 s immensit ->  immensity\n",
            "158  immensity -> immensity \n",
            "159 immensity  -> mmensity o\n",
            "160 mmensity o -> mensity of\n",
            "161 mensity of -> ensity of \n",
            "162 ensity of  -> nsity of t\n",
            "163 nsity of t -> sity of th\n",
            "164 sity of th -> ity of the\n",
            "165 ity of the -> ty of the \n",
            "166 ty of the  -> y of the s\n",
            "167 y of the s ->  of the se\n",
            "168  of the se -> of the sea\n",
            "169 of the sea -> f the sea.\n"
          ],
          "name": "stdout"
        }
      ]
    },
    {
      "cell_type": "code",
      "metadata": {
        "id": "SAbaS2jnseGn",
        "colab_type": "code",
        "colab": {
          "base_uri": "https://localhost:8080/",
          "height": 55
        },
        "outputId": "f733b7e2-69a9-4643-c82b-c0543d9217d9"
      },
      "source": [
        "dataX = np.array(to_categorical(dataX, num_classes))\n",
        "dataY = np.array(to_categorical(dataY, num_classes))\n",
        "print(dataX.shape, dataY.shape)\n",
        "print(batch_size)"
      ],
      "execution_count": null,
      "outputs": [
        {
          "output_type": "stream",
          "text": [
            "(170, 10, 25) (170, 10, 25)\n",
            "170\n"
          ],
          "name": "stdout"
        }
      ]
    },
    {
      "cell_type": "code",
      "metadata": {
        "id": "RzdU7Y0IsifS",
        "colab_type": "code",
        "colab": {}
      },
      "source": [
        "train_dataset = tf.data.Dataset.from_tensor_slices((dataX, dataY)).shuffle(\n",
        "                buffer_size=1000).batch(batch_size).repeat()"
      ],
      "execution_count": null,
      "outputs": []
    },
    {
      "cell_type": "code",
      "metadata": {
        "id": "JEBqkm0islcM",
        "colab_type": "code",
        "colab": {}
      },
      "source": [
        "## Model 만들기\n",
        "def create_model():\n",
        "    model = keras.Sequential()\n",
        "    model.add(layers.LSTM(units=hidden_size, return_sequences=True,\n",
        "                                     input_shape=(dataX.shape[1],dataX.shape[2])))\n",
        "    model.add(layers.LSTM(units=hidden_size, return_sequences=True))\n",
        "    model.add(layers.Dense(units=num_classes, activation='softmax'))\n",
        "    return model"
      ],
      "execution_count": null,
      "outputs": []
    },
    {
      "cell_type": "code",
      "metadata": {
        "id": "gVKvCmOnspAo",
        "colab_type": "code",
        "colab": {
          "base_uri": "https://localhost:8080/",
          "height": 279
        },
        "outputId": "9936efdc-6cac-4959-dc81-8e9ba588b477"
      },
      "source": [
        "model = create_model()\n",
        "model.compile(optimizer=keras.optimizers.Adam(learning_rate),\n",
        "              loss='categorical_crossentropy')\n",
        "model.summary()"
      ],
      "execution_count": null,
      "outputs": [
        {
          "output_type": "stream",
          "text": [
            "Model: \"sequential_2\"\n",
            "_________________________________________________________________\n",
            "Layer (type)                 Output Shape              Param #   \n",
            "=================================================================\n",
            "lstm_1 (LSTM)                (None, 10, 25)            5100      \n",
            "_________________________________________________________________\n",
            "lstm_2 (LSTM)                (None, 10, 25)            5100      \n",
            "_________________________________________________________________\n",
            "dense_1 (Dense)              (None, 10, 25)            650       \n",
            "=================================================================\n",
            "Total params: 10,850\n",
            "Trainable params: 10,850\n",
            "Non-trainable params: 0\n",
            "_________________________________________________________________\n"
          ],
          "name": "stdout"
        }
      ]
    },
    {
      "cell_type": "code",
      "metadata": {
        "id": "94NcFnNxtKCJ",
        "colab_type": "code",
        "colab": {
          "base_uri": "https://localhost:8080/",
          "height": 1000
        },
        "outputId": "8933c628-493b-4f7e-8d1e-132c0e33dc3e"
      },
      "source": [
        "## Training\n",
        "model.fit(train_dataset, epochs=training_epochs,\n",
        "                    steps_per_epoch=dataX.shape[0]//batch_size)"
      ],
      "execution_count": null,
      "outputs": [
        {
          "output_type": "stream",
          "text": [
            "Epoch 1/200\n",
            "1/1 [==============================] - 0s 7ms/step - loss: 3.2168\n",
            "Epoch 2/200\n",
            "1/1 [==============================] - 0s 985us/step - loss: 2.9540\n",
            "Epoch 3/200\n",
            "1/1 [==============================] - 0s 993us/step - loss: 3.0638\n",
            "Epoch 4/200\n",
            "1/1 [==============================] - 0s 1ms/step - loss: 2.9053\n",
            "Epoch 5/200\n",
            "1/1 [==============================] - 0s 1ms/step - loss: 2.8740\n",
            "Epoch 6/200\n",
            "1/1 [==============================] - 0s 821us/step - loss: 2.8757\n",
            "Epoch 7/200\n",
            "1/1 [==============================] - 0s 858us/step - loss: 2.8488\n",
            "Epoch 8/200\n",
            "1/1 [==============================] - 0s 884us/step - loss: 2.8064\n",
            "Epoch 9/200\n",
            "1/1 [==============================] - 0s 1ms/step - loss: 2.7655\n",
            "Epoch 10/200\n",
            "1/1 [==============================] - 0s 842us/step - loss: 2.7226\n",
            "Epoch 11/200\n",
            "1/1 [==============================] - 0s 1ms/step - loss: 2.6707\n",
            "Epoch 12/200\n",
            "1/1 [==============================] - 0s 920us/step - loss: 2.6089\n",
            "Epoch 13/200\n",
            "1/1 [==============================] - 0s 2ms/step - loss: 2.5524\n",
            "Epoch 14/200\n",
            "1/1 [==============================] - 0s 2ms/step - loss: 2.4773\n",
            "Epoch 15/200\n",
            "1/1 [==============================] - 0s 1ms/step - loss: 2.3811\n",
            "Epoch 16/200\n",
            "1/1 [==============================] - 0s 1ms/step - loss: 2.2749\n",
            "Epoch 17/200\n",
            "1/1 [==============================] - 0s 2ms/step - loss: 2.1513\n",
            "Epoch 18/200\n",
            "1/1 [==============================] - 0s 1ms/step - loss: 2.0099\n",
            "Epoch 19/200\n",
            "1/1 [==============================] - 0s 2ms/step - loss: 1.8685\n",
            "Epoch 20/200\n",
            "1/1 [==============================] - 0s 1ms/step - loss: 1.7282\n",
            "Epoch 21/200\n",
            "1/1 [==============================] - 0s 2ms/step - loss: 1.5726\n",
            "Epoch 22/200\n",
            "1/1 [==============================] - 0s 1ms/step - loss: 1.4415\n",
            "Epoch 23/200\n",
            "1/1 [==============================] - 0s 2ms/step - loss: 1.3062\n",
            "Epoch 24/200\n",
            "1/1 [==============================] - 0s 2ms/step - loss: 1.1966\n",
            "Epoch 25/200\n",
            "1/1 [==============================] - 0s 2ms/step - loss: 1.0893\n",
            "Epoch 26/200\n",
            "1/1 [==============================] - 0s 2ms/step - loss: 0.9877\n",
            "Epoch 27/200\n",
            "1/1 [==============================] - 0s 2ms/step - loss: 0.8919\n",
            "Epoch 28/200\n",
            "1/1 [==============================] - 0s 1ms/step - loss: 0.8061\n",
            "Epoch 29/200\n",
            "1/1 [==============================] - 0s 1ms/step - loss: 0.7309\n",
            "Epoch 30/200\n",
            "1/1 [==============================] - 0s 2ms/step - loss: 0.6689\n",
            "Epoch 31/200\n",
            "1/1 [==============================] - 0s 905us/step - loss: 0.6162\n",
            "Epoch 32/200\n",
            "1/1 [==============================] - 0s 1ms/step - loss: 0.5611\n",
            "Epoch 33/200\n",
            "1/1 [==============================] - 0s 1ms/step - loss: 0.5220\n",
            "Epoch 34/200\n",
            "1/1 [==============================] - 0s 2ms/step - loss: 0.4840\n",
            "Epoch 35/200\n",
            "1/1 [==============================] - 0s 1ms/step - loss: 0.4491\n",
            "Epoch 36/200\n",
            "1/1 [==============================] - 0s 1ms/step - loss: 0.4233\n",
            "Epoch 37/200\n",
            "1/1 [==============================] - 0s 2ms/step - loss: 0.3989\n",
            "Epoch 38/200\n",
            "1/1 [==============================] - 0s 2ms/step - loss: 0.3758\n",
            "Epoch 39/200\n",
            "1/1 [==============================] - 0s 2ms/step - loss: 0.3599\n",
            "Epoch 40/200\n",
            "1/1 [==============================] - 0s 2ms/step - loss: 0.3449\n",
            "Epoch 41/200\n",
            "1/1 [==============================] - 0s 2ms/step - loss: 0.3323\n",
            "Epoch 42/200\n",
            "1/1 [==============================] - 0s 1ms/step - loss: 0.3212\n",
            "Epoch 43/200\n",
            "1/1 [==============================] - 0s 935us/step - loss: 0.3109\n",
            "Epoch 44/200\n",
            "1/1 [==============================] - 0s 2ms/step - loss: 0.3022\n",
            "Epoch 45/200\n",
            "1/1 [==============================] - 0s 1ms/step - loss: 0.2950\n",
            "Epoch 46/200\n",
            "1/1 [==============================] - 0s 3ms/step - loss: 0.2881\n",
            "Epoch 47/200\n",
            "1/1 [==============================] - 0s 1ms/step - loss: 0.2821\n",
            "Epoch 48/200\n",
            "1/1 [==============================] - 0s 2ms/step - loss: 0.2763\n",
            "Epoch 49/200\n",
            "1/1 [==============================] - 0s 2ms/step - loss: 0.2704\n",
            "Epoch 50/200\n",
            "1/1 [==============================] - 0s 2ms/step - loss: 0.2671\n",
            "Epoch 51/200\n",
            "1/1 [==============================] - 0s 3ms/step - loss: 0.2648\n",
            "Epoch 52/200\n",
            "1/1 [==============================] - 0s 2ms/step - loss: 0.2618\n",
            "Epoch 53/200\n",
            "1/1 [==============================] - 0s 2ms/step - loss: 0.2589\n",
            "Epoch 54/200\n",
            "1/1 [==============================] - 0s 1ms/step - loss: 0.2563\n",
            "Epoch 55/200\n",
            "1/1 [==============================] - 0s 2ms/step - loss: 0.2548\n",
            "Epoch 56/200\n",
            "1/1 [==============================] - 0s 2ms/step - loss: 0.2532\n",
            "Epoch 57/200\n",
            "1/1 [==============================] - 0s 2ms/step - loss: 0.2509\n",
            "Epoch 58/200\n",
            "1/1 [==============================] - 0s 3ms/step - loss: 0.2493\n",
            "Epoch 59/200\n",
            "1/1 [==============================] - 0s 2ms/step - loss: 0.2480\n",
            "Epoch 60/200\n",
            "1/1 [==============================] - 0s 1ms/step - loss: 0.2468\n",
            "Epoch 61/200\n",
            "1/1 [==============================] - 0s 962us/step - loss: 0.2452\n",
            "Epoch 62/200\n",
            "1/1 [==============================] - 0s 1ms/step - loss: 0.2442\n",
            "Epoch 63/200\n",
            "1/1 [==============================] - 0s 912us/step - loss: 0.2433\n",
            "Epoch 64/200\n",
            "1/1 [==============================] - 0s 1ms/step - loss: 0.2429\n",
            "Epoch 65/200\n",
            "1/1 [==============================] - 0s 2ms/step - loss: 0.2419\n",
            "Epoch 66/200\n",
            "1/1 [==============================] - 0s 1ms/step - loss: 0.2413\n",
            "Epoch 67/200\n",
            "1/1 [==============================] - 0s 3ms/step - loss: 0.2406\n",
            "Epoch 68/200\n",
            "1/1 [==============================] - 0s 2ms/step - loss: 0.2401\n",
            "Epoch 69/200\n",
            "1/1 [==============================] - 0s 947us/step - loss: 0.2395\n",
            "Epoch 70/200\n",
            "1/1 [==============================] - 0s 1ms/step - loss: 0.2387\n",
            "Epoch 71/200\n",
            "1/1 [==============================] - 0s 3ms/step - loss: 0.2383\n",
            "Epoch 72/200\n",
            "1/1 [==============================] - 0s 2ms/step - loss: 0.2375\n",
            "Epoch 73/200\n",
            "1/1 [==============================] - 0s 1ms/step - loss: 0.2374\n",
            "Epoch 74/200\n",
            "1/1 [==============================] - 0s 982us/step - loss: 0.2368\n",
            "Epoch 75/200\n",
            "1/1 [==============================] - 0s 891us/step - loss: 0.2365\n",
            "Epoch 76/200\n",
            "1/1 [==============================] - 0s 3ms/step - loss: 0.2362\n",
            "Epoch 77/200\n",
            "1/1 [==============================] - 0s 1ms/step - loss: 0.2360\n",
            "Epoch 78/200\n",
            "1/1 [==============================] - 0s 2ms/step - loss: 0.2357\n",
            "Epoch 79/200\n",
            "1/1 [==============================] - 0s 1ms/step - loss: 0.2358\n",
            "Epoch 80/200\n",
            "1/1 [==============================] - 0s 2ms/step - loss: 0.2352\n",
            "Epoch 81/200\n",
            "1/1 [==============================] - 0s 2ms/step - loss: 0.2349\n",
            "Epoch 82/200\n",
            "1/1 [==============================] - 0s 946us/step - loss: 0.2346\n",
            "Epoch 83/200\n",
            "1/1 [==============================] - 0s 1ms/step - loss: 0.2345\n",
            "Epoch 84/200\n",
            "1/1 [==============================] - 0s 1ms/step - loss: 0.2344\n",
            "Epoch 85/200\n",
            "1/1 [==============================] - 0s 2ms/step - loss: 0.2340\n",
            "Epoch 86/200\n",
            "1/1 [==============================] - 0s 2ms/step - loss: 0.2338\n",
            "Epoch 87/200\n",
            "1/1 [==============================] - 0s 3ms/step - loss: 0.2337\n",
            "Epoch 88/200\n",
            "1/1 [==============================] - 0s 2ms/step - loss: 0.2335\n",
            "Epoch 89/200\n",
            "1/1 [==============================] - 0s 1ms/step - loss: 0.2334\n",
            "Epoch 90/200\n",
            "1/1 [==============================] - 0s 2ms/step - loss: 0.2332\n",
            "Epoch 91/200\n",
            "1/1 [==============================] - 0s 1ms/step - loss: 0.2330\n",
            "Epoch 92/200\n",
            "1/1 [==============================] - 0s 2ms/step - loss: 0.2330\n",
            "Epoch 93/200\n",
            "1/1 [==============================] - 0s 1ms/step - loss: 0.2328\n",
            "Epoch 94/200\n",
            "1/1 [==============================] - 0s 896us/step - loss: 0.2327\n",
            "Epoch 95/200\n",
            "1/1 [==============================] - 0s 1ms/step - loss: 0.2327\n",
            "Epoch 96/200\n",
            "1/1 [==============================] - 0s 2ms/step - loss: 0.2326\n",
            "Epoch 97/200\n",
            "1/1 [==============================] - 0s 990us/step - loss: 0.2326\n",
            "Epoch 98/200\n",
            "1/1 [==============================] - 0s 1ms/step - loss: 0.2325\n",
            "Epoch 99/200\n",
            "1/1 [==============================] - 0s 1ms/step - loss: 0.2325\n",
            "Epoch 100/200\n",
            "1/1 [==============================] - 0s 2ms/step - loss: 0.2325\n",
            "Epoch 101/200\n",
            "1/1 [==============================] - 0s 2ms/step - loss: 0.2326\n",
            "Epoch 102/200\n",
            "1/1 [==============================] - 0s 1ms/step - loss: 0.2325\n",
            "Epoch 103/200\n",
            "1/1 [==============================] - 0s 1ms/step - loss: 0.2324\n",
            "Epoch 104/200\n",
            "1/1 [==============================] - 0s 2ms/step - loss: 0.2323\n",
            "Epoch 105/200\n",
            "1/1 [==============================] - 0s 1ms/step - loss: 0.2322\n",
            "Epoch 106/200\n",
            "1/1 [==============================] - 0s 2ms/step - loss: 0.2319\n",
            "Epoch 107/200\n",
            "1/1 [==============================] - 0s 2ms/step - loss: 0.2319\n",
            "Epoch 108/200\n",
            "1/1 [==============================] - 0s 1ms/step - loss: 0.2319\n",
            "Epoch 109/200\n",
            "1/1 [==============================] - 0s 1ms/step - loss: 0.2318\n",
            "Epoch 110/200\n",
            "1/1 [==============================] - 0s 1ms/step - loss: 0.2318\n",
            "Epoch 111/200\n",
            "1/1 [==============================] - 0s 2ms/step - loss: 0.2316\n",
            "Epoch 112/200\n",
            "1/1 [==============================] - 0s 1ms/step - loss: 0.2315\n",
            "Epoch 113/200\n",
            "1/1 [==============================] - 0s 1ms/step - loss: 0.2316\n",
            "Epoch 114/200\n",
            "1/1 [==============================] - 0s 957us/step - loss: 0.2316\n",
            "Epoch 115/200\n",
            "1/1 [==============================] - 0s 1ms/step - loss: 0.2316\n",
            "Epoch 116/200\n",
            "1/1 [==============================] - 0s 2ms/step - loss: 0.2315\n",
            "Epoch 117/200\n",
            "1/1 [==============================] - 0s 2ms/step - loss: 0.2315\n",
            "Epoch 118/200\n",
            "1/1 [==============================] - 0s 943us/step - loss: 0.2315\n",
            "Epoch 119/200\n",
            "1/1 [==============================] - 0s 2ms/step - loss: 0.2316\n",
            "Epoch 120/200\n",
            "1/1 [==============================] - 0s 2ms/step - loss: 0.2318\n",
            "Epoch 121/200\n",
            "1/1 [==============================] - 0s 2ms/step - loss: 0.2317\n",
            "Epoch 122/200\n",
            "1/1 [==============================] - 0s 1ms/step - loss: 0.2317\n",
            "Epoch 123/200\n",
            "1/1 [==============================] - 0s 1ms/step - loss: 0.2315\n",
            "Epoch 124/200\n",
            "1/1 [==============================] - 0s 2ms/step - loss: 0.2314\n",
            "Epoch 125/200\n",
            "1/1 [==============================] - 0s 1ms/step - loss: 0.2312\n",
            "Epoch 126/200\n",
            "1/1 [==============================] - 0s 3ms/step - loss: 0.2312\n",
            "Epoch 127/200\n",
            "1/1 [==============================] - 0s 2ms/step - loss: 0.2314\n",
            "Epoch 128/200\n",
            "1/1 [==============================] - 0s 1ms/step - loss: 0.2315\n",
            "Epoch 129/200\n",
            "1/1 [==============================] - 0s 968us/step - loss: 0.2313\n",
            "Epoch 130/200\n",
            "1/1 [==============================] - 0s 1ms/step - loss: 0.2310\n",
            "Epoch 131/200\n",
            "1/1 [==============================] - 0s 2ms/step - loss: 0.2311\n",
            "Epoch 132/200\n",
            "1/1 [==============================] - 0s 1ms/step - loss: 0.2314\n",
            "Epoch 133/200\n",
            "1/1 [==============================] - 0s 959us/step - loss: 0.2315\n",
            "Epoch 134/200\n",
            "1/1 [==============================] - 0s 2ms/step - loss: 0.2314\n",
            "Epoch 135/200\n",
            "1/1 [==============================] - 0s 1ms/step - loss: 0.2310\n",
            "Epoch 136/200\n",
            "1/1 [==============================] - 0s 982us/step - loss: 0.2308\n",
            "Epoch 137/200\n",
            "1/1 [==============================] - 0s 2ms/step - loss: 0.2310\n",
            "Epoch 138/200\n",
            "1/1 [==============================] - 0s 1ms/step - loss: 0.2311\n",
            "Epoch 139/200\n",
            "1/1 [==============================] - 0s 1ms/step - loss: 0.2309\n",
            "Epoch 140/200\n",
            "1/1 [==============================] - 0s 1ms/step - loss: 0.2307\n",
            "Epoch 141/200\n",
            "1/1 [==============================] - 0s 2ms/step - loss: 0.2307\n",
            "Epoch 142/200\n",
            "1/1 [==============================] - 0s 2ms/step - loss: 0.2308\n",
            "Epoch 143/200\n",
            "1/1 [==============================] - 0s 3ms/step - loss: 0.2307\n",
            "Epoch 144/200\n",
            "1/1 [==============================] - 0s 2ms/step - loss: 0.2306\n",
            "Epoch 145/200\n",
            "1/1 [==============================] - 0s 2ms/step - loss: 0.2306\n",
            "Epoch 146/200\n",
            "1/1 [==============================] - 0s 2ms/step - loss: 0.2306\n",
            "Epoch 147/200\n",
            "1/1 [==============================] - 0s 3ms/step - loss: 0.2306\n",
            "Epoch 148/200\n",
            "1/1 [==============================] - 0s 1ms/step - loss: 0.2305\n",
            "Epoch 149/200\n",
            "1/1 [==============================] - 0s 1ms/step - loss: 0.2304\n",
            "Epoch 150/200\n",
            "1/1 [==============================] - 0s 2ms/step - loss: 0.2304\n",
            "Epoch 151/200\n",
            "1/1 [==============================] - 0s 921us/step - loss: 0.2304\n",
            "Epoch 152/200\n",
            "1/1 [==============================] - 0s 1ms/step - loss: 0.2304\n",
            "Epoch 153/200\n",
            "1/1 [==============================] - 0s 2ms/step - loss: 0.2305\n",
            "Epoch 154/200\n",
            "1/1 [==============================] - 0s 984us/step - loss: 0.2306\n",
            "Epoch 155/200\n",
            "1/1 [==============================] - 0s 2ms/step - loss: 0.2312\n",
            "Epoch 156/200\n",
            "1/1 [==============================] - 0s 3ms/step - loss: 0.2311\n",
            "Epoch 157/200\n",
            "1/1 [==============================] - 0s 1ms/step - loss: 0.2305\n",
            "Epoch 158/200\n",
            "1/1 [==============================] - 0s 1ms/step - loss: 0.2304\n",
            "Epoch 159/200\n",
            "1/1 [==============================] - 0s 3ms/step - loss: 0.2307\n",
            "Epoch 160/200\n",
            "1/1 [==============================] - 0s 3ms/step - loss: 0.2305\n",
            "Epoch 161/200\n",
            "1/1 [==============================] - 0s 1ms/step - loss: 0.2303\n",
            "Epoch 162/200\n",
            "1/1 [==============================] - 0s 2ms/step - loss: 0.2304\n",
            "Epoch 163/200\n",
            "1/1 [==============================] - 0s 1ms/step - loss: 0.2306\n",
            "Epoch 164/200\n",
            "1/1 [==============================] - 0s 1ms/step - loss: 0.2308\n",
            "Epoch 165/200\n",
            "1/1 [==============================] - 0s 1ms/step - loss: 0.2304\n",
            "Epoch 166/200\n",
            "1/1 [==============================] - 0s 2ms/step - loss: 0.2304\n",
            "Epoch 167/200\n",
            "1/1 [==============================] - 0s 1ms/step - loss: 0.2304\n",
            "Epoch 168/200\n",
            "1/1 [==============================] - 0s 1ms/step - loss: 0.2303\n",
            "Epoch 169/200\n",
            "1/1 [==============================] - 0s 2ms/step - loss: 0.2303\n",
            "Epoch 170/200\n",
            "1/1 [==============================] - 0s 2ms/step - loss: 0.2302\n",
            "Epoch 171/200\n",
            "1/1 [==============================] - 0s 5ms/step - loss: 0.2302\n",
            "Epoch 172/200\n",
            "1/1 [==============================] - 0s 2ms/step - loss: 0.2301\n",
            "Epoch 173/200\n",
            "1/1 [==============================] - 0s 1ms/step - loss: 0.2302\n",
            "Epoch 174/200\n",
            "1/1 [==============================] - 0s 2ms/step - loss: 0.2303\n",
            "Epoch 175/200\n",
            "1/1 [==============================] - 0s 2ms/step - loss: 0.2302\n",
            "Epoch 176/200\n",
            "1/1 [==============================] - 0s 1ms/step - loss: 0.2301\n",
            "Epoch 177/200\n",
            "1/1 [==============================] - 0s 2ms/step - loss: 0.2300\n",
            "Epoch 178/200\n",
            "1/1 [==============================] - 0s 2ms/step - loss: 0.2301\n",
            "Epoch 179/200\n",
            "1/1 [==============================] - 0s 1ms/step - loss: 0.2300\n",
            "Epoch 180/200\n",
            "1/1 [==============================] - 0s 2ms/step - loss: 0.2300\n",
            "Epoch 181/200\n",
            "1/1 [==============================] - 0s 869us/step - loss: 0.2301\n",
            "Epoch 182/200\n",
            "1/1 [==============================] - 0s 1ms/step - loss: 0.2300\n",
            "Epoch 183/200\n",
            "1/1 [==============================] - 0s 2ms/step - loss: 0.2300\n",
            "Epoch 184/200\n",
            "1/1 [==============================] - 0s 2ms/step - loss: 0.2301\n",
            "Epoch 185/200\n",
            "1/1 [==============================] - 0s 964us/step - loss: 0.2300\n",
            "Epoch 186/200\n",
            "1/1 [==============================] - 0s 1ms/step - loss: 0.2300\n",
            "Epoch 187/200\n",
            "1/1 [==============================] - 0s 1ms/step - loss: 0.2300\n",
            "Epoch 188/200\n",
            "1/1 [==============================] - 0s 1ms/step - loss: 0.2300\n",
            "Epoch 189/200\n",
            "1/1 [==============================] - 0s 1ms/step - loss: 0.2301\n",
            "Epoch 190/200\n",
            "1/1 [==============================] - 0s 2ms/step - loss: 0.2302\n",
            "Epoch 191/200\n",
            "1/1 [==============================] - 0s 878us/step - loss: 0.2303\n",
            "Epoch 192/200\n",
            "1/1 [==============================] - 0s 2ms/step - loss: 0.2305\n",
            "Epoch 193/200\n",
            "1/1 [==============================] - 0s 979us/step - loss: 0.2303\n",
            "Epoch 194/200\n",
            "1/1 [==============================] - 0s 848us/step - loss: 0.2301\n",
            "Epoch 195/200\n",
            "1/1 [==============================] - 0s 1ms/step - loss: 0.2298\n",
            "Epoch 196/200\n",
            "1/1 [==============================] - 0s 961us/step - loss: 0.2298\n",
            "Epoch 197/200\n",
            "1/1 [==============================] - 0s 967us/step - loss: 0.2298\n",
            "Epoch 198/200\n",
            "1/1 [==============================] - 0s 3ms/step - loss: 0.2299\n",
            "Epoch 199/200\n",
            "1/1 [==============================] - 0s 895us/step - loss: 0.2302\n",
            "Epoch 200/200\n",
            "1/1 [==============================] - 0s 2ms/step - loss: 0.2301\n"
          ],
          "name": "stdout"
        },
        {
          "output_type": "execute_result",
          "data": {
            "text/plain": [
              "<tensorflow.python.keras.callbacks.History at 0x7f90f4e75198>"
            ]
          },
          "metadata": {
            "tags": []
          },
          "execution_count": 25
        }
      ]
    },
    {
      "cell_type": "code",
      "metadata": {
        "id": "mSFZUaWhtKri",
        "colab_type": "code",
        "colab": {
          "base_uri": "https://localhost:8080/",
          "height": 56
        },
        "outputId": "c29fd3fc-729c-43d0-9eb7-481c68aa4aa9"
      },
      "source": [
        "## 결과 확인\n",
        "results = model.predict(dataX, steps=1)\n",
        "for j, result in enumerate(results):\n",
        "    index = np.argmax(result, axis=1)\n",
        "    if j is 0:  # print all for the first result to make a sentence\n",
        "        print(''.join([idx2char[t] for t in index]), end='')\n",
        "    else:\n",
        "        print(idx2char[index[-1]], end='')"
      ],
      "execution_count": null,
      "outputs": [
        {
          "output_type": "stream",
          "text": [
            "t you want to build a ship, don't drum up people together to collect wood and don't assign them tasks and work, but rather teach them to long for the endless immensity of the sea."
          ],
          "name": "stdout"
        }
      ]
    },
    {
      "cell_type": "markdown",
      "metadata": {
        "id": "rnupGB2fuNWc",
        "colab_type": "text"
      },
      "source": [
        "# Stock Prediction with RNN  \n",
        "RNN을 이용한 간단한 주식 예측 모델을 학습해보겠습니다."
      ]
    },
    {
      "cell_type": "code",
      "metadata": {
        "id": "kt3TNpW8MzvP",
        "colab_type": "code",
        "colab": {
          "base_uri": "https://localhost:8080/",
          "height": 130
        },
        "outputId": "972481ce-63d4-4ac5-ab51-80a8b01a1df9"
      },
      "source": [
        "## google drive 연동\n",
        "from google.colab import drive\n",
        "drive.mount('/content/drive')"
      ],
      "execution_count": 2,
      "outputs": [
        {
          "output_type": "stream",
          "text": [
            "Go to this URL in a browser: https://accounts.google.com/o/oauth2/auth?client_id=947318989803-6bn6qk8qdgf4n4g3pfee6491hc0brc4i.apps.googleusercontent.com&redirect_uri=urn%3aietf%3awg%3aoauth%3a2.0%3aoob&response_type=code&scope=email%20https%3a%2f%2fwww.googleapis.com%2fauth%2fdocs.test%20https%3a%2f%2fwww.googleapis.com%2fauth%2fdrive%20https%3a%2f%2fwww.googleapis.com%2fauth%2fdrive.photos.readonly%20https%3a%2f%2fwww.googleapis.com%2fauth%2fpeopleapi.readonly\n",
            "\n",
            "Enter your authorization code:\n",
            "··········\n",
            "Mounted at /content/drive\n"
          ],
          "name": "stdout"
        }
      ]
    },
    {
      "cell_type": "code",
      "metadata": {
        "id": "FQjHP119uKrj",
        "colab_type": "code",
        "colab": {}
      },
      "source": [
        "## HyperParameters\n",
        "seq_length = 7\n",
        "data_dim = 5\n",
        "hidden_size = 10\n",
        "output_dim = 1\n",
        "learning_rate = 0.001\n",
        "training_epochs = 70\n",
        "batch_size = 25"
      ],
      "execution_count": 67,
      "outputs": []
    },
    {
      "cell_type": "code",
      "metadata": {
        "id": "JpeWgQD1ucQO",
        "colab_type": "code",
        "colab": {}
      },
      "source": [
        "## Data Preprocessing\n",
        "def MinMaxScaler(data):\n",
        "    ''' Min Max Normalization\n",
        "    Parameters\n",
        "    ----------\n",
        "    data : numpy.ndarray\n",
        "        input data to be normalized\n",
        "        shape: [Batch size, dimension]\n",
        "    Returns\n",
        "    ----------\n",
        "    data : numpy.ndarry\n",
        "        normalized data\n",
        "        shape: [Batch size, dimension]\n",
        "    References\n",
        "    ----------\n",
        "    .. [1] http://sebastianraschka.com/Articles/2014_about_feature_scaling.html\n",
        "    '''\n",
        "    numerator = data - np.min(data, 0)\n",
        "    denominator = np.max(data, 0) - np.min(data, 0)\n",
        "    # noise term prevents the zero division\n",
        "    return numerator / (denominator + 1e-7), denominator[0], np.min(data, 0)[0]"
      ],
      "execution_count": 118,
      "outputs": []
    },
    {
      "cell_type": "code",
      "metadata": {
        "id": "y1dGsEA8ujDN",
        "colab_type": "code",
        "colab": {}
      },
      "source": [
        "## Data 준비\n",
        "# Open, High, Low, Volume, Close\n",
        "xy = np.loadtxt('/content/drive/My Drive/TensorFlow_Training_16th/data/stock.csv', delimiter=',')\n",
        "xy, denom, min = MinMaxScaler(xy)\n",
        "xy = xy.astype(np.float32)\n",
        "x = xy\n",
        "y = xy[:, :1]  # Close as label"
      ],
      "execution_count": 119,
      "outputs": []
    },
    {
      "cell_type": "code",
      "metadata": {
        "id": "gRuz1NnevZxN",
        "colab_type": "code",
        "colab": {
          "base_uri": "https://localhost:8080/",
          "height": 1000
        },
        "outputId": "c45b6134-926b-433c-f699-b356f16ad3d0"
      },
      "source": [
        "# build a dataset\n",
        "dataX = []\n",
        "dataY = []\n",
        "for i in range(0, len(y) - seq_length):\n",
        "    _x = x[i:i + seq_length]\n",
        "    _y = y[i + seq_length]  # Next close price\n",
        "    if i % 100 == 0:\n",
        "      print(_x, \"->\", _y)\n",
        "    dataX.append(_x)\n",
        "    dataY.append(_y)"
      ],
      "execution_count": 105,
      "outputs": [
        {
          "output_type": "stream",
          "text": [
            "[[0.07951599 0.07718844 0.06866953 0.08273616 0.01888257]\n",
            " [0.07649092 0.07503234 0.06866953 0.07969598 0.04100536]\n",
            " [0.07605878 0.06985769 0.06609442 0.07752443 0.04882753]\n",
            " [0.0713051  0.0741699  0.06566524 0.07709012 0.06470669]\n",
            " [0.07605878 0.07158258 0.06738197 0.07969598 0.10324512]\n",
            " [0.07735523 0.07589478 0.06738197 0.07969598 0.03534049]\n",
            " [0.07692308 0.07330746 0.06609442 0.07926168 0.04344697]] -> [0.07303371]\n",
            "[[0.08470181 0.08451919 0.07682403 0.09011944 0.03530305]\n",
            " [0.08513397 0.08106942 0.07596567 0.08968513 0.03768776]\n",
            " [0.08599827 0.08365675 0.07682403 0.09142236 0.05000309]\n",
            " [0.08772688 0.08322553 0.07682403 0.08968513 0.03971813]\n",
            " [0.08513397 0.08495041 0.07639485 0.09098805 0.03005457]\n",
            " [0.08599827 0.07977577 0.07639485 0.08838219 0.03182521]\n",
            " [0.08729473 0.08150065 0.07639485 0.08925082 0.06808283]] -> [0.08599827]\n",
            "[[0.15859982 0.1586891  0.15236051 0.16438654 0.04430285]\n",
            " [0.15946414 0.16041397 0.15708154 0.16264929 0.08571347]\n",
            " [0.16464996 0.15696421 0.15364806 0.16351792 0.04718039]\n",
            " [0.17026794 0.16127641 0.1665236  0.16568947 0.11907337]\n",
            " [0.16292135 0.16170764 0.15450644 0.16655809 0.05869297]\n",
            " [0.17070009 0.16386373 0.15922746 0.1709012  0.05581179]\n",
            " [0.1840968  0.16860716 0.17381974 0.17741585 0.0880904 ]] -> [0.18928263]\n",
            "[[0.19965428 0.20439845 0.19527897 0.20651466 0.0434427 ]\n",
            " [0.20095074 0.19793014 0.19184549 0.20608035 0.03821518]\n",
            " [0.19835782 0.19663648 0.18969958 0.20434311 0.03931351]\n",
            " [0.1949006  0.19577403 0.18712446 0.19913138 0.04156765]\n",
            " [0.18841833 0.19146183 0.18240343 0.19435397 0.04311367]\n",
            " [0.18928263 0.18671842 0.17939915 0.1921824  0.03823507]\n",
            " [0.19144338 0.18542475 0.17982833 0.19305103 0.03833912]] -> [0.18236819]\n",
            "[[0.17113224 0.17076325 0.16480687 0.17480999 0.03390792]\n",
            " [0.16594641 0.17076325 0.16394849 0.17176981 0.04184362]\n",
            " [0.16810717 0.16213885 0.15793991 0.16959827 0.02551948]\n",
            " [0.17761452 0.16903839 0.16824034 0.17741585 0.0991349 ]\n",
            " [0.17977528 0.17852522 0.17467812 0.18393052 0.07818453]\n",
            " [0.17804667 0.17766279 0.16995709 0.18262757 0.05348884]\n",
            " [0.17718236 0.17636913 0.17038627 0.18045603 0.06242225]] -> [0.17847882]\n",
            "[[0.12013829 0.11384217 0.10901287 0.12269273 0.0515464 ]\n",
            " [0.11840968 0.11772316 0.1137339  0.12269273 0.07321686]\n",
            " [0.11408816 0.11384217 0.10686696 0.11791531 0.06631183]\n",
            " [0.11581676 0.11125485 0.10772532 0.12008686 0.04040806]\n",
            " [0.11581676 0.11599828 0.10944206 0.12138979 0.09710097]\n",
            " [0.11668107 0.11470462 0.10643777 0.12095548 0.04715015]\n",
            " [0.12229905 0.11297973 0.11287554 0.12138979 0.11858874]] -> [0.12143475]\n",
            "[[0.1227312  0.12117292 0.12103004 0.12920739 0.0813113 ]\n",
            " [0.13223855 0.12850367 0.12103004 0.13224755 0.11165054]\n",
            " [0.13785653 0.13238464 0.12832618 0.13702497 0.1423146 ]\n",
            " [0.14563526 0.13540319 0.13519314 0.14093377 0.168871  ]\n",
            " [0.14995678 0.13971539 0.14248927 0.1465798  0.17859232]\n",
            " [0.15471046 0.15265201 0.14549357 0.16004343 0.1531948 ]\n",
            " [0.15427831 0.15523933 0.14678112 0.15743756 0.08033755]] -> [0.15125324]\n",
            "[[0.1443388  0.14100906 0.14291845 0.1465798  0.22096165]\n",
            " [0.14649957 0.1461837  0.13948497 0.14961998 0.07726854]\n",
            " [0.13137424 0.14273393 0.13476394 0.13789359 0.16907203]\n",
            " [0.11797753 0.12376024 0.11545064 0.12442997 0.19409525]\n",
            " [0.11365601 0.11729193 0.11030043 0.11791531 0.11554597]\n",
            " [0.1300778  0.11427339 0.11888412 0.12269273 0.12306521]\n",
            " [0.1300778  0.13281587 0.12746781 0.1339848  0.10315755]] -> [0.12489196]\n",
            "[[0.17199655 0.15825787 0.16223176 0.1669924  0.12803829]\n",
            " [0.17891097 0.16860716 0.17381974 0.17567861 0.13590132]\n",
            " [0.18063958 0.17723157 0.17296137 0.18132465 0.09451766]\n",
            " [0.17891097 0.17507546 0.17296137 0.18306188 0.07132199]\n",
            " [0.19014694 0.18413109 0.17854077 0.19131379 0.14265075]\n",
            " [0.18798617 0.18499354 0.18154506 0.1917481  0.13254558]\n",
            " [0.17761452 0.18542475 0.17639485 0.18175896 0.16322732]] -> [0.17675021]\n",
            "[[0.13915299 0.13540319 0.13648069 0.13963084 0.07150377]\n",
            " [0.14995678 0.14014661 0.14077254 0.14831705 0.1060035 ]\n",
            " [0.15384616 0.14273393 0.14763948 0.15135722 0.11463868]\n",
            " [0.15471046 0.15394567 0.14549357 0.15787187 0.06937684]\n",
            " [0.14563526 0.15006468 0.14248927 0.15092291 0.08231243]\n",
            " [0.14952463 0.1461837  0.14077254 0.15222584 0.06937627]\n",
            " [0.14304236 0.13971539 0.13819742 0.14571118 0.07678141]] -> [0.14520311]\n",
            "[[0.02571305 0.02156102 0.01802575 0.02736156 0.18024296]\n",
            " [0.03003457 0.02501078 0.02124464 0.03257329 0.06334329]\n",
            " [0.0252809  0.02156102 0.01716738 0.02888165 0.07342795]\n",
            " [0.02765774 0.01466149 0.01716738 0.02171553 0.08352815]\n",
            " [0.02225583 0.02889176 0.02103004 0.02823018 0.11825279]\n",
            " [0.02117545 0.02005175 0.01909871 0.02584148 0.09068876]\n",
            " [0.04278306 0.02608883 0.03261803 0.03431053 0.13617672]] -> [0.04926534]\n",
            "[[0.14952463 0.14920224 0.14678112 0.15483171 0.11350619]\n",
            " [0.15211755 0.14833981 0.14377682 0.15613464 0.06403494]\n",
            " [0.15038894 0.15135835 0.1446352  0.15179153 0.05866038]\n",
            " [0.14304236 0.14273393 0.1360515  0.14875136 0.08132642]\n",
            " [0.1443388  0.14316516 0.13690987 0.1465798  0.05269558]\n",
            " [0.1434745  0.14445882 0.1360515  0.1461455  0.0413515 ]\n",
            " [0.15298185 0.1418715  0.14248927 0.14961998 0.07582813]] -> [0.15859982]\n",
            "[[0.31287813 0.34023285 0.33261803 0.31813246 0.1502018 ]\n",
            " [0.28046674 0.2927986  0.29399142 0.28121606 0.17814335]\n",
            " [0.29343128 0.2841742  0.2832618  0.29207385 0.08856583]\n",
            " [0.29991356 0.2863303  0.28755364 0.28555918 0.09068534]\n",
            " [0.28046674 0.2927986  0.28755364 0.28773072 0.05891738]\n",
            " [0.29127052 0.28848642 0.2811159  0.28338763 0.08478564]\n",
            " [0.2826275  0.28848642 0.2832618  0.28773072 0.04897999]] -> [0.29343128]\n",
            "[[0.340968   0.33807677 0.3304721  0.34201956 0.03017765]\n",
            " [0.34528953 0.33376455 0.33476394 0.3441911  0.0305608 ]\n",
            " [0.340968   0.34454507 0.33690986 0.3441911  0.03088848]\n",
            " [0.33880726 0.33592066 0.32832617 0.33984798 0.04698956]\n",
            " [0.36257562 0.33160844 0.35407725 0.34201956 0.11890122]\n",
            " [0.3928263  0.36826217 0.37982833 0.3767644  0.18530896]\n",
            " [0.40363008 0.3898232  0.39914164 0.39630836 0.08646636]] -> [0.3971478]\n",
            "[[0.41011235 0.42216474 0.41416308 0.4136808  0.10967308]\n",
            " [0.43604147 0.407072   0.4248927  0.4136808  0.08447679]\n",
            " [0.44252378 0.42647693 0.42918456 0.43756786 0.03952459]\n",
            " [0.41659465 0.43510133 0.43133047 0.42019543 0.08039681]\n",
            " [0.4252377  0.4156964  0.42060086 0.422367   0.05267989]\n",
            " [0.42091617 0.4156964  0.416309   0.42019543 0.03594414]\n",
            " [0.42739844 0.41354033 0.42274678 0.42453855 0.03245275]] -> [0.43604147]\n",
            "[[0.68668973 0.68736523 0.67596567 0.6786102  0.04007725]\n",
            " [0.6758859  0.683053   0.67596567 0.6807818  0.03767635]\n",
            " [0.6694036  0.6722725  0.6695279  0.67209554 0.06745145]\n",
            " [0.7061366  0.6701164  0.7017167  0.6764386  0.0845859 ]\n",
            " [0.69533277 0.69598967 0.6909871  0.69815415 0.02983001]\n",
            " [0.6758859  0.68520916 0.6866953  0.6829533  0.06583618]\n",
            " [0.6737251  0.6701164  0.66523606 0.6568947  0.11010116]] -> [0.67804664]\n",
            "[[0.8184961  0.82104355 0.8111588  0.8175896  0.10406655]\n",
            " [0.8033708  0.81026304 0.8197425  0.80890334 0.1068409 ]\n",
            " [0.8184961  0.7994825  0.8111588  0.80890334 0.06314484]\n",
            " [0.85955054 0.81457525 0.8476395  0.82844734 0.0654479 ]\n",
            " [0.8530683  0.8663217  0.8540773  0.85016286 0.04905237]\n",
            " [0.8249784  0.829668   0.8304721  0.83279043 0.04125858]\n",
            " [0.8141746  0.829668   0.81759655 0.8023887  0.06136285]] -> [0.8228176]\n",
            "[[0.8422645  0.8231996  0.8369099  0.82410425 0.04463637]\n",
            " [0.83794296 0.8469168  0.8390558  0.8436482  0.02231027]\n",
            " [0.8681936  0.8598534  0.860515   0.8610206  0.04182002]\n",
            " [0.8638721  0.8771022  0.8669528  0.86970687 0.01656838]\n",
            " [0.8617113  0.8706339  0.8583691  0.85667753 0.00966584]\n",
            " [0.855229   0.8576973  0.860515   0.85233444 0.0254431 ]\n",
            " [0.79688853 0.82535577 0.8261803  0.8067318  0.06826796]] -> [0.82713914]\n",
            "[[0.8163353  0.8124191  0.8090129  0.8219327  0.01732307]\n",
            " [0.84442526 0.81026304 0.8304721  0.8219327  0.05360358]\n",
            " [0.8617113  0.84476066 0.8476395  0.85233444 0.05704483]\n",
            " [0.846586   0.85554117 0.85193133 0.85667753 0.04349012]\n",
            " [0.87683666 0.8426046  0.86266094 0.85667753 0.04039972]\n",
            " [0.94165945 0.9072876  0.9248927  0.91096634 0.09563674]\n",
            " [0.9351772  0.9417853  0.95922744 0.9435396  0.07245013]] -> [0.98055315]\n",
            "[[0.8898012  0.87279    0.87982833 0.88707924 0.01279939]\n",
            " [0.8941227  0.8814144  0.87982833 0.88273615 0.01212892]\n",
            " [0.900605   0.894351   0.8927039  0.8957655  0.01646841]\n",
            " [0.8941227  0.8792583  0.89055794 0.8892508  0.01695917]\n",
            " [0.90708727 0.894351   0.90128756 0.90445167 0.02656882]\n",
            " [0.891962   0.8921949  0.89055794 0.8957655  0.00852715]\n",
            " [0.90276575 0.8814144  0.89055794 0.8957655  0.00779036]] -> [0.90276575]\n",
            "[[0.7493518  0.74558    0.7424893  0.74592835 0.02327496]\n",
            " [0.75799483 0.7585166  0.74892706 0.7633008  0.01406886]\n",
            " [0.76231635 0.7649849  0.75536484 0.7611292  0.02580279]\n",
            " [0.7493518  0.7585166  0.74892706 0.75027144 0.02937469]\n",
            " [0.76663786 0.73911166 0.7575107  0.75027144 0.05510803]\n",
            " [0.7817632  0.78007764 0.77896994 0.7871878  0.06366341]\n",
            " [0.738548   0.77360934 0.76180255 0.74809986 0.05631382]] -> [0.7082973]\n",
            "[[0.71910113 0.72833115 0.7253219  0.7242128  0.01558829]\n",
            " [0.69533277 0.7175507  0.71030045 0.7046688  0.0339818 ]\n",
            " [0.69101125 0.70245796 0.6909871  0.69598264 0.03087407]\n",
            " [0.69101125 0.68520916 0.69527894 0.69598264 0.01605295]\n",
            " [0.72342265 0.69383353 0.71244633 0.7024973  0.03547791]\n",
            " [0.7363872  0.72617507 0.72746783 0.732899   0.03056415]\n",
            " [0.7363872  0.72186285 0.74034333 0.732899   0.03480052]] -> [0.7126188]\n",
            "[[0.93733793 0.9288486  0.93133044 0.93485343 0.01966913]\n",
            " [0.91356957 0.91591203 0.92060083 0.9239957  0.01313961]\n",
            " [0.90924805 0.90944374 0.90772533 0.90879476 0.00854804]\n",
            " [0.91573036 0.8986632  0.9141631  0.9131379  0.0095096 ]\n",
            " [0.8941227  0.90944374 0.90128756 0.90445167 0.00516427]\n",
            " [0.8898012  0.9051315  0.8948498  0.897937   0.00831885]\n",
            " [0.91573036 0.89650714 0.9098712  0.90879476 0.0144257 ]] -> [0.93733793]\n",
            "[[0.900605   0.9223803  0.91201717 0.90662324 0.02290329]\n",
            " [0.90924805 0.90297544 0.9055794  0.9131379  0.02599298]\n",
            " [0.90492654 0.89650714 0.8948498  0.90228015 0.00659569]\n",
            " [0.91356957 0.8900388  0.90128756 0.9001086  0.0181865 ]\n",
            " [0.891962   0.90944374 0.9034335  0.8892508  0.03480566]\n",
            " [0.8876405  0.8900388  0.87982833 0.87404996 0.02875207]\n",
            " [0.8854797  0.87279    0.8755365  0.8849077  0.01504668]] -> [0.8833189]\n",
            "[[0.846586   0.8231996  0.8304721  0.834962   0.02120409]\n",
            " [0.8422645  0.8426046  0.8304721  0.8458198  0.00241502]\n",
            " [0.8141746  0.82751185 0.8218884  0.8219327  0.03208008]\n",
            " [0.79904926 0.80163866 0.79613733 0.80456024 0.0414288 ]\n",
            " [0.79688853 0.81026304 0.7982833  0.80021715 0.03441737]\n",
            " [0.7796024  0.7951703  0.7832618  0.7828447  0.0259733 ]\n",
            " [0.76231635 0.7585166  0.76180255 0.7654723  0.07430158]] -> [0.7904062]\n",
            "[[0.5548833  0.5472186  0.54291844 0.55266017 0.02931586]\n",
            " [0.5613656  0.55153084 0.55364805 0.55917484 0.01792315]\n",
            " [0.5721694  0.56446743 0.56437767 0.5700326  0.03883309]\n",
            " [0.57865167 0.5709357  0.56437767 0.5765472  0.01925039]\n",
            " [0.5570441  0.56662357 0.5579399  0.5635179  0.03852837]\n",
            " [0.5592048  0.55584306 0.55150217 0.5635179  0.04727117]\n",
            " [0.5570441  0.5536869  0.5493562  0.5635179  0.01550385]] -> [0.54624027]\n",
            "[[0.41011235 0.41138422 0.40772533 0.41585234 0.02719749]\n",
            " [0.42307693 0.407072   0.416309   0.41802388 0.04677014]\n",
            " [0.42091617 0.40922812 0.40772533 0.41585234 0.03328274]\n",
            " [0.42739844 0.42000863 0.41845495 0.42888165 0.03364586]\n",
            " [0.4295592  0.42432082 0.416309   0.42453855 0.03580964]\n",
            " [0.4252377  0.42647693 0.416309   0.4267101  0.06646407]\n",
            " [0.42307693 0.42000863 0.41201717 0.4267101  0.01338378]] -> [0.41443387]\n",
            "[[0.5224719  0.5191893  0.5193133  0.53094465 0.00923462]\n",
            " [0.5289542  0.52781373 0.5193133  0.53528774 0.00423751]\n",
            " [0.5224719  0.5235015  0.5171674  0.52877307 0.00270062]\n",
            " [0.5181504  0.5191893  0.50858366 0.5179153  0.00963682]\n",
            " [0.50950736 0.5170332  0.5107296  0.51574373 0.01861479]\n",
            " [0.49438202 0.512721   0.50214595 0.50271446 0.02586341]\n",
            " [0.49870354 0.4976283  0.4914163  0.504886   0.01735979]] -> [0.49222127]\n",
            "[[0.50518584 0.48469168 0.49570817 0.4961998  0.01727187]\n",
            " [0.5008643  0.5062527  0.49570817 0.504886   0.01043086]\n",
            " [0.49438202 0.49978438 0.49570817 0.5005429  0.00756581]\n",
            " [0.50518584 0.49331608 0.49356222 0.504886   0.00952087]\n",
            " [0.49222127 0.49331608 0.4892704  0.49837133 0.01104164]\n",
            " [0.485739   0.48900387 0.4828326  0.49185666 0.0077878 ]\n",
            " [0.50302505 0.48037946 0.4914163  0.49185666 0.01439026]] -> [0.4835782]\n",
            "[[0.44252378 0.43294522 0.43133047 0.44191095 0.01902433]\n",
            " [0.43820226 0.43510133 0.42918456 0.44191095 0.02023184]\n",
            " [0.43820226 0.44156966 0.4334764  0.44408253 0.0282596 ]\n",
            " [0.43171996 0.42863303 0.42918456 0.4353963  0.02656889]\n",
            " [0.43820226 0.42863303 0.42918456 0.43756786 0.02516898]\n",
            " [0.43604147 0.43078914 0.4248927  0.43756786 0.02143065]\n",
            " [0.43604147 0.43294522 0.42918456 0.44191095 0.01399762]] -> [0.45332757]\n",
            "[[0.44036302 0.43294522 0.43133047 0.44191095 0.0164995 ]\n",
            " [0.44036302 0.43510133 0.42918456 0.4397394  0.01791416]\n",
            " [0.44468454 0.43941355 0.4356223  0.44191095 0.02492153]\n",
            " [0.44900605 0.44588184 0.43776825 0.44842562 0.01182806]\n",
            " [0.44252378 0.44803795 0.43776825 0.44842562 0.01118605]\n",
            " [0.44468454 0.44156966 0.4334764  0.45059717 0.00934116]\n",
            " [0.4684529  0.44803795 0.45922747 0.45928338 0.03695796]] -> [0.4900605]\n",
            "[[0.5138289  0.5191893  0.51287556 0.5179153  0.02632935]\n",
            " [0.5116681  0.512721   0.50429183 0.5179153  0.0154001 ]\n",
            " [0.49438202 0.49978438 0.49356222 0.49837133 0.04943324]\n",
            " [0.4792567  0.48900387 0.4806867  0.48534203 0.04573599]\n",
            " [0.4792567  0.47822338 0.47424892 0.4809989  0.03052607]\n",
            " [0.4835782  0.48037946 0.47854078 0.48751357 0.03056936]\n",
            " [0.4835782  0.48469168 0.4806867  0.48751357 0.03173593]] -> [0.50518584]\n",
            "[[0.53759724 0.5472186  0.54077256 0.5461455  0.02602243]\n",
            " [0.5332757  0.5299698  0.5193133  0.52877307 0.01773025]\n",
            " [0.53759724 0.5235015  0.527897   0.53528774 0.00955902]\n",
            " [0.53975797 0.5256576  0.527897   0.53745925 0.01937582]\n",
            " [0.53759724 0.5407503  0.53004295 0.53963083 0.01090893]\n",
            " [0.5246327  0.5256576  0.5214592  0.5266015  0.028407  ]\n",
            " [0.48789975 0.5191893  0.5107296  0.49402824 0.07639976]] -> [0.48789975]\n",
            "[[0.53111494 0.5235015  0.5193133  0.5266015  0.01338342]\n",
            " [0.53111494 0.5235015  0.5193133  0.5266015  0.01518581]\n",
            " [0.53111494 0.53859425 0.53004295 0.53963083 0.01145838]\n",
            " [0.5224719  0.5191893  0.5171674  0.52443    0.02030322]\n",
            " [0.5138289  0.52134544 0.5214592  0.51574373 0.03074108]\n",
            " [0.50302505 0.50409657 0.5        0.51140064 0.02493287]\n",
            " [0.49654278 0.4954722  0.4914163  0.49837133 0.04163275]] -> [0.5008643]\n",
            "[[0.39930856 0.3984476  0.39055794 0.40065145 0.009394  ]\n",
            " [0.3971478  0.3984476  0.38841203 0.40282303 0.00495811]\n",
            " [0.39498705 0.3919793  0.38626608 0.40065145 0.00364848]\n",
            " [0.37770095 0.3919793  0.38412017 0.3767644  0.03615507]\n",
            " [0.37770095 0.3811988  0.37124464 0.37893593 0.00854883]\n",
            " [0.36689714 0.37041828 0.36266094 0.3724213  0.0158721 ]\n",
            " [0.3582541  0.3661061  0.3583691  0.36373508 0.02658828]] -> [0.340968]\n",
            "[[0.3971478  0.3898232  0.38841203 0.39196527 0.07624216]\n",
            " [0.386344   0.3876671  0.38412017 0.39196527 0.05580823]\n",
            " [0.36689714 0.37688658 0.37124464 0.37024972 0.05513405]\n",
            " [0.36473638 0.36179388 0.35407725 0.36373508 0.01887536]\n",
            " [0.37770095 0.3661061  0.37339056 0.3724213  0.03103324]\n",
            " [0.38202247 0.3833549  0.38412017 0.37893593 0.04473806]\n",
            " [0.3582541  0.37688658 0.36695278 0.36590663 0.021652  ]] -> [0.36257562]\n",
            "[[0.41011235 0.41354033 0.40343347 0.40282303 0.06877976]\n",
            " [0.4122731  0.4049159  0.40343347 0.41585234 0.01818529]\n",
            " [0.4079516  0.4049159  0.40343347 0.40933767 0.03202967]\n",
            " [0.40363008 0.4006037  0.39914164 0.40933767 0.01639816]\n",
            " [0.3928263  0.3984476  0.39270386 0.39413682 0.02140426]\n",
            " [0.3928263  0.39413542 0.38626608 0.39413682 0.01125294]\n",
            " [0.386344   0.3833549  0.38412017 0.39413682 0.02310867]] -> [0.38202247]\n",
            "[[0.36689714 0.35316947 0.3583691  0.3615635  0.12411448]\n",
            " [0.37121868 0.36394998 0.36051503 0.36807817 0.06926239]\n",
            " [0.37337944 0.3661061  0.36051503 0.37459284 0.05285317]\n",
            " [0.3755402  0.3725744  0.36266094 0.3767644  0.05974181]\n",
            " [0.3690579  0.3725744  0.36695278 0.37459284 0.09261665]\n",
            " [0.36689714 0.36826217 0.3583691  0.3724213  0.03113379]\n",
            " [0.3690579  0.3661061  0.3583691  0.3724213  0.02769253]] -> [0.36041486]\n",
            "[[0.23681936 0.2350151  0.22618026 0.23995657 0.04115212]\n",
            " [0.26793432 0.24752048 0.25708154 0.25602606 0.31378496]\n",
            " [0.2601556  0.2604571  0.25236052 0.26297504 0.11866312]\n",
            " [0.25972342 0.26304442 0.25407726 0.26427796 0.09325923]\n",
            " [0.24805531 0.25657612 0.24763949 0.2529859  0.1037818 ]\n",
            " [0.25453758 0.24708927 0.24334764 0.2529859  0.07283749]\n",
            " [0.26231635 0.2518327  0.25751072 0.25950053 0.13136059]] -> [0.26361278]\n"
          ],
          "name": "stdout"
        }
      ]
    },
    {
      "cell_type": "code",
      "metadata": {
        "id": "NbBoWcTUvkZr",
        "colab_type": "code",
        "colab": {
          "base_uri": "https://localhost:8080/",
          "height": 54
        },
        "outputId": "638e596e-21cd-43d1-d40a-95c19e0d1803"
      },
      "source": [
        "## Train/Test Split\n",
        "train_size = int(len(dataY) * 0.7+10)\n",
        "test_size = len(dataY) - train_size\n",
        "trainX, testX = np.array(dataX[0:train_size]), np.array(\n",
        "    dataX[train_size:len(dataX)])\n",
        "trainY, testY = np.array(dataY[0:train_size]), np.array(\n",
        "    dataY[train_size:len(dataY)])\n",
        "print(trainX.shape, trainY.shape)\n",
        "print(testX.shape, testY.shape)"
      ],
      "execution_count": 106,
      "outputs": [
        {
          "output_type": "stream",
          "text": [
            "(2700, 7, 5) (2700, 1)\n",
            "(1143, 7, 5) (1143, 1)\n"
          ],
          "name": "stdout"
        }
      ]
    },
    {
      "cell_type": "code",
      "metadata": {
        "id": "wwYwY6Qrvqa5",
        "colab_type": "code",
        "colab": {}
      },
      "source": [
        "## Dataset 만들기\n",
        "train_dataset = tf.data.Dataset.from_tensor_slices((trainX, trainY)).shuffle(\n",
        "                buffer_size=1000).prefetch(buffer_size=batch_size).batch(batch_size).repeat()\n",
        "test_dataset = tf.data.Dataset.from_tensor_slices((testX, testY)).prefetch(\n",
        "                buffer_size=batch_size).batch(batch_size)"
      ],
      "execution_count": 107,
      "outputs": []
    },
    {
      "cell_type": "code",
      "metadata": {
        "id": "J-ZYSt02vt9j",
        "colab_type": "code",
        "colab": {}
      },
      "source": [
        "## Model 만들기\n",
        "def create_model():\n",
        "    model = keras.Sequential()\n",
        "    model.add(keras.layers.LSTM(units=hidden_size, return_sequences=True,\n",
        "                                     input_shape=(trainX.shape[1],trainX.shape[2])))\n",
        "    model.add(keras.layers.LSTM(units=hidden_size))\n",
        "    model.add(keras.layers.Dense(units=output_dim))\n",
        "    return model"
      ],
      "execution_count": 108,
      "outputs": []
    },
    {
      "cell_type": "code",
      "metadata": {
        "id": "nR-XF5EWvyCq",
        "colab_type": "code",
        "colab": {
          "base_uri": "https://localhost:8080/",
          "height": 278
        },
        "outputId": "3f4bc721-4f34-4650-b694-083d3721b304"
      },
      "source": [
        "model = create_model()\n",
        "model.compile(optimizer=keras.optimizers.Adam(learning_rate),\n",
        "              loss='mse',\n",
        "              metrics=[keras.metrics.RootMeanSquaredError()])\n",
        "model.summary()"
      ],
      "execution_count": 109,
      "outputs": [
        {
          "output_type": "stream",
          "text": [
            "Model: \"sequential_11\"\n",
            "_________________________________________________________________\n",
            "Layer (type)                 Output Shape              Param #   \n",
            "=================================================================\n",
            "lstm_22 (LSTM)               (None, 7, 10)             640       \n",
            "_________________________________________________________________\n",
            "lstm_23 (LSTM)               (None, 10)                840       \n",
            "_________________________________________________________________\n",
            "dense_11 (Dense)             (None, 1)                 11        \n",
            "=================================================================\n",
            "Total params: 1,491\n",
            "Trainable params: 1,491\n",
            "Non-trainable params: 0\n",
            "_________________________________________________________________\n"
          ],
          "name": "stdout"
        }
      ]
    },
    {
      "cell_type": "code",
      "metadata": {
        "id": "bOabov-WwA9f",
        "colab_type": "code",
        "colab": {
          "base_uri": "https://localhost:8080/",
          "height": 1000
        },
        "outputId": "a2df24dc-2558-487e-ba23-b862282ef6e1"
      },
      "source": [
        "## Training\n",
        "model.fit(train_dataset, epochs=training_epochs,\n",
        "          steps_per_epoch=trainX.shape[0]//batch_size,\n",
        "          validation_data=test_dataset,\n",
        "          validation_steps=testX.shape[0]//batch_size+1)"
      ],
      "execution_count": 110,
      "outputs": [
        {
          "output_type": "stream",
          "text": [
            "Epoch 1/70\n",
            "108/108 [==============================] - 1s 10ms/step - loss: 0.0048 - root_mean_squared_error: 0.0693 - val_loss: 5.6513e-04 - val_root_mean_squared_error: 0.0238\n",
            "Epoch 2/70\n",
            "108/108 [==============================] - 1s 5ms/step - loss: 7.6890e-04 - root_mean_squared_error: 0.0277 - val_loss: 5.2945e-04 - val_root_mean_squared_error: 0.0230\n",
            "Epoch 3/70\n",
            "108/108 [==============================] - 1s 5ms/step - loss: 7.3582e-04 - root_mean_squared_error: 0.0271 - val_loss: 4.9178e-04 - val_root_mean_squared_error: 0.0222\n",
            "Epoch 4/70\n",
            "108/108 [==============================] - 1s 5ms/step - loss: 7.3762e-04 - root_mean_squared_error: 0.0272 - val_loss: 5.0563e-04 - val_root_mean_squared_error: 0.0225\n",
            "Epoch 5/70\n",
            "108/108 [==============================] - 1s 5ms/step - loss: 7.2066e-04 - root_mean_squared_error: 0.0268 - val_loss: 4.7818e-04 - val_root_mean_squared_error: 0.0219\n",
            "Epoch 6/70\n",
            "108/108 [==============================] - 1s 5ms/step - loss: 6.8331e-04 - root_mean_squared_error: 0.0261 - val_loss: 4.6893e-04 - val_root_mean_squared_error: 0.0217\n",
            "Epoch 7/70\n",
            "108/108 [==============================] - 1s 5ms/step - loss: 6.6388e-04 - root_mean_squared_error: 0.0258 - val_loss: 4.9119e-04 - val_root_mean_squared_error: 0.0222\n",
            "Epoch 8/70\n",
            "108/108 [==============================] - 1s 5ms/step - loss: 6.9379e-04 - root_mean_squared_error: 0.0263 - val_loss: 4.8091e-04 - val_root_mean_squared_error: 0.0219\n",
            "Epoch 9/70\n",
            "108/108 [==============================] - 1s 6ms/step - loss: 6.6500e-04 - root_mean_squared_error: 0.0258 - val_loss: 4.4251e-04 - val_root_mean_squared_error: 0.0210\n",
            "Epoch 10/70\n",
            "108/108 [==============================] - 1s 5ms/step - loss: 6.2247e-04 - root_mean_squared_error: 0.0249 - val_loss: 4.8277e-04 - val_root_mean_squared_error: 0.0220\n",
            "Epoch 11/70\n",
            "108/108 [==============================] - 1s 5ms/step - loss: 6.3971e-04 - root_mean_squared_error: 0.0253 - val_loss: 4.3638e-04 - val_root_mean_squared_error: 0.0209\n",
            "Epoch 12/70\n",
            "108/108 [==============================] - 1s 5ms/step - loss: 6.4561e-04 - root_mean_squared_error: 0.0254 - val_loss: 4.2704e-04 - val_root_mean_squared_error: 0.0207\n",
            "Epoch 13/70\n",
            "108/108 [==============================] - 1s 5ms/step - loss: 6.4896e-04 - root_mean_squared_error: 0.0255 - val_loss: 4.1875e-04 - val_root_mean_squared_error: 0.0205\n",
            "Epoch 14/70\n",
            "108/108 [==============================] - 1s 5ms/step - loss: 5.8587e-04 - root_mean_squared_error: 0.0242 - val_loss: 4.5150e-04 - val_root_mean_squared_error: 0.0212\n",
            "Epoch 15/70\n",
            "108/108 [==============================] - 1s 5ms/step - loss: 6.1783e-04 - root_mean_squared_error: 0.0249 - val_loss: 4.0097e-04 - val_root_mean_squared_error: 0.0200\n",
            "Epoch 16/70\n",
            "108/108 [==============================] - 1s 5ms/step - loss: 5.6914e-04 - root_mean_squared_error: 0.0239 - val_loss: 4.0951e-04 - val_root_mean_squared_error: 0.0202\n",
            "Epoch 17/70\n",
            "108/108 [==============================] - 1s 5ms/step - loss: 5.5107e-04 - root_mean_squared_error: 0.0235 - val_loss: 4.1565e-04 - val_root_mean_squared_error: 0.0204\n",
            "Epoch 18/70\n",
            "108/108 [==============================] - 1s 6ms/step - loss: 5.5447e-04 - root_mean_squared_error: 0.0235 - val_loss: 5.0987e-04 - val_root_mean_squared_error: 0.0226\n",
            "Epoch 19/70\n",
            "108/108 [==============================] - 1s 5ms/step - loss: 5.8658e-04 - root_mean_squared_error: 0.0242 - val_loss: 3.9910e-04 - val_root_mean_squared_error: 0.0200\n",
            "Epoch 20/70\n",
            "108/108 [==============================] - 1s 5ms/step - loss: 5.7150e-04 - root_mean_squared_error: 0.0239 - val_loss: 3.5817e-04 - val_root_mean_squared_error: 0.0189\n",
            "Epoch 21/70\n",
            "108/108 [==============================] - 1s 5ms/step - loss: 5.0099e-04 - root_mean_squared_error: 0.0224 - val_loss: 3.9108e-04 - val_root_mean_squared_error: 0.0198\n",
            "Epoch 22/70\n",
            "108/108 [==============================] - 1s 5ms/step - loss: 4.7400e-04 - root_mean_squared_error: 0.0218 - val_loss: 3.5345e-04 - val_root_mean_squared_error: 0.0188\n",
            "Epoch 23/70\n",
            "108/108 [==============================] - 1s 6ms/step - loss: 4.6707e-04 - root_mean_squared_error: 0.0216 - val_loss: 3.2454e-04 - val_root_mean_squared_error: 0.0180\n",
            "Epoch 24/70\n",
            "108/108 [==============================] - 1s 5ms/step - loss: 4.5306e-04 - root_mean_squared_error: 0.0213 - val_loss: 3.5266e-04 - val_root_mean_squared_error: 0.0188\n",
            "Epoch 25/70\n",
            "108/108 [==============================] - 1s 5ms/step - loss: 4.1946e-04 - root_mean_squared_error: 0.0205 - val_loss: 3.2474e-04 - val_root_mean_squared_error: 0.0180\n",
            "Epoch 26/70\n",
            "108/108 [==============================] - 1s 5ms/step - loss: 4.4648e-04 - root_mean_squared_error: 0.0211 - val_loss: 3.0160e-04 - val_root_mean_squared_error: 0.0174\n",
            "Epoch 27/70\n",
            "108/108 [==============================] - 1s 5ms/step - loss: 4.0149e-04 - root_mean_squared_error: 0.0200 - val_loss: 2.9451e-04 - val_root_mean_squared_error: 0.0172\n",
            "Epoch 28/70\n",
            "108/108 [==============================] - 1s 6ms/step - loss: 3.8869e-04 - root_mean_squared_error: 0.0197 - val_loss: 2.7787e-04 - val_root_mean_squared_error: 0.0167\n",
            "Epoch 29/70\n",
            "108/108 [==============================] - 1s 5ms/step - loss: 4.0206e-04 - root_mean_squared_error: 0.0201 - val_loss: 3.5482e-04 - val_root_mean_squared_error: 0.0188\n",
            "Epoch 30/70\n",
            "108/108 [==============================] - 1s 5ms/step - loss: 4.1346e-04 - root_mean_squared_error: 0.0203 - val_loss: 2.7450e-04 - val_root_mean_squared_error: 0.0166\n",
            "Epoch 31/70\n",
            "108/108 [==============================] - 1s 5ms/step - loss: 3.8486e-04 - root_mean_squared_error: 0.0196 - val_loss: 2.6130e-04 - val_root_mean_squared_error: 0.0162\n",
            "Epoch 32/70\n",
            "108/108 [==============================] - 1s 5ms/step - loss: 3.7321e-04 - root_mean_squared_error: 0.0193 - val_loss: 2.7306e-04 - val_root_mean_squared_error: 0.0165\n",
            "Epoch 33/70\n",
            "108/108 [==============================] - 1s 5ms/step - loss: 3.7678e-04 - root_mean_squared_error: 0.0194 - val_loss: 3.1876e-04 - val_root_mean_squared_error: 0.0179\n",
            "Epoch 34/70\n",
            "108/108 [==============================] - 1s 5ms/step - loss: 3.7441e-04 - root_mean_squared_error: 0.0193 - val_loss: 3.3524e-04 - val_root_mean_squared_error: 0.0183\n",
            "Epoch 35/70\n",
            "108/108 [==============================] - 1s 5ms/step - loss: 3.6413e-04 - root_mean_squared_error: 0.0191 - val_loss: 3.4344e-04 - val_root_mean_squared_error: 0.0185\n",
            "Epoch 36/70\n",
            "108/108 [==============================] - 1s 5ms/step - loss: 3.4113e-04 - root_mean_squared_error: 0.0185 - val_loss: 2.3672e-04 - val_root_mean_squared_error: 0.0154\n",
            "Epoch 37/70\n",
            "108/108 [==============================] - 1s 5ms/step - loss: 3.5765e-04 - root_mean_squared_error: 0.0189 - val_loss: 2.3352e-04 - val_root_mean_squared_error: 0.0153\n",
            "Epoch 38/70\n",
            "108/108 [==============================] - 1s 5ms/step - loss: 3.1708e-04 - root_mean_squared_error: 0.0178 - val_loss: 2.8389e-04 - val_root_mean_squared_error: 0.0168\n",
            "Epoch 39/70\n",
            "108/108 [==============================] - 1s 6ms/step - loss: 3.1288e-04 - root_mean_squared_error: 0.0177 - val_loss: 2.2475e-04 - val_root_mean_squared_error: 0.0150\n",
            "Epoch 40/70\n",
            "108/108 [==============================] - 1s 5ms/step - loss: 2.9459e-04 - root_mean_squared_error: 0.0172 - val_loss: 2.2831e-04 - val_root_mean_squared_error: 0.0151\n",
            "Epoch 41/70\n",
            "108/108 [==============================] - 1s 5ms/step - loss: 3.3080e-04 - root_mean_squared_error: 0.0182 - val_loss: 2.0766e-04 - val_root_mean_squared_error: 0.0144\n",
            "Epoch 42/70\n",
            "108/108 [==============================] - 1s 6ms/step - loss: 3.0343e-04 - root_mean_squared_error: 0.0174 - val_loss: 2.1572e-04 - val_root_mean_squared_error: 0.0147\n",
            "Epoch 43/70\n",
            "108/108 [==============================] - 1s 5ms/step - loss: 2.8361e-04 - root_mean_squared_error: 0.0168 - val_loss: 1.9068e-04 - val_root_mean_squared_error: 0.0138\n",
            "Epoch 44/70\n",
            "108/108 [==============================] - 1s 6ms/step - loss: 3.0671e-04 - root_mean_squared_error: 0.0175 - val_loss: 1.9827e-04 - val_root_mean_squared_error: 0.0141\n",
            "Epoch 45/70\n",
            "108/108 [==============================] - 1s 6ms/step - loss: 2.8284e-04 - root_mean_squared_error: 0.0168 - val_loss: 2.0739e-04 - val_root_mean_squared_error: 0.0144\n",
            "Epoch 46/70\n",
            "108/108 [==============================] - 1s 5ms/step - loss: 2.9373e-04 - root_mean_squared_error: 0.0171 - val_loss: 1.7983e-04 - val_root_mean_squared_error: 0.0134\n",
            "Epoch 47/70\n",
            "108/108 [==============================] - 1s 5ms/step - loss: 2.6584e-04 - root_mean_squared_error: 0.0163 - val_loss: 1.7431e-04 - val_root_mean_squared_error: 0.0132\n",
            "Epoch 48/70\n",
            "108/108 [==============================] - 1s 5ms/step - loss: 2.7039e-04 - root_mean_squared_error: 0.0164 - val_loss: 1.7024e-04 - val_root_mean_squared_error: 0.0130\n",
            "Epoch 49/70\n",
            "108/108 [==============================] - 1s 6ms/step - loss: 2.6937e-04 - root_mean_squared_error: 0.0164 - val_loss: 1.9324e-04 - val_root_mean_squared_error: 0.0139\n",
            "Epoch 50/70\n",
            "108/108 [==============================] - 1s 6ms/step - loss: 2.6576e-04 - root_mean_squared_error: 0.0163 - val_loss: 1.9285e-04 - val_root_mean_squared_error: 0.0139\n",
            "Epoch 51/70\n",
            "108/108 [==============================] - 1s 5ms/step - loss: 2.6986e-04 - root_mean_squared_error: 0.0164 - val_loss: 1.6262e-04 - val_root_mean_squared_error: 0.0128\n",
            "Epoch 52/70\n",
            "108/108 [==============================] - 1s 5ms/step - loss: 2.5673e-04 - root_mean_squared_error: 0.0160 - val_loss: 1.6154e-04 - val_root_mean_squared_error: 0.0127\n",
            "Epoch 53/70\n",
            "108/108 [==============================] - 1s 6ms/step - loss: 2.6781e-04 - root_mean_squared_error: 0.0164 - val_loss: 1.7244e-04 - val_root_mean_squared_error: 0.0131\n",
            "Epoch 54/70\n",
            "108/108 [==============================] - 1s 5ms/step - loss: 2.6244e-04 - root_mean_squared_error: 0.0162 - val_loss: 2.2438e-04 - val_root_mean_squared_error: 0.0150\n",
            "Epoch 55/70\n",
            "108/108 [==============================] - 1s 5ms/step - loss: 2.7189e-04 - root_mean_squared_error: 0.0165 - val_loss: 2.4857e-04 - val_root_mean_squared_error: 0.0158\n",
            "Epoch 56/70\n",
            "108/108 [==============================] - 1s 5ms/step - loss: 2.7106e-04 - root_mean_squared_error: 0.0165 - val_loss: 1.5274e-04 - val_root_mean_squared_error: 0.0124\n",
            "Epoch 57/70\n",
            "108/108 [==============================] - 1s 5ms/step - loss: 2.5127e-04 - root_mean_squared_error: 0.0159 - val_loss: 1.5709e-04 - val_root_mean_squared_error: 0.0125\n",
            "Epoch 58/70\n",
            "108/108 [==============================] - 1s 5ms/step - loss: 2.3602e-04 - root_mean_squared_error: 0.0154 - val_loss: 1.7814e-04 - val_root_mean_squared_error: 0.0133\n",
            "Epoch 59/70\n",
            "108/108 [==============================] - 1s 5ms/step - loss: 2.3064e-04 - root_mean_squared_error: 0.0152 - val_loss: 1.4698e-04 - val_root_mean_squared_error: 0.0121\n",
            "Epoch 60/70\n",
            "108/108 [==============================] - 1s 5ms/step - loss: 2.3139e-04 - root_mean_squared_error: 0.0152 - val_loss: 1.6030e-04 - val_root_mean_squared_error: 0.0127\n",
            "Epoch 61/70\n",
            "108/108 [==============================] - 1s 6ms/step - loss: 2.4365e-04 - root_mean_squared_error: 0.0156 - val_loss: 1.7411e-04 - val_root_mean_squared_error: 0.0132\n",
            "Epoch 62/70\n",
            "108/108 [==============================] - 1s 6ms/step - loss: 2.6852e-04 - root_mean_squared_error: 0.0164 - val_loss: 1.4835e-04 - val_root_mean_squared_error: 0.0122\n",
            "Epoch 63/70\n",
            "108/108 [==============================] - 1s 5ms/step - loss: 2.2923e-04 - root_mean_squared_error: 0.0151 - val_loss: 1.5757e-04 - val_root_mean_squared_error: 0.0126\n",
            "Epoch 64/70\n",
            "108/108 [==============================] - 1s 6ms/step - loss: 2.2461e-04 - root_mean_squared_error: 0.0150 - val_loss: 1.8676e-04 - val_root_mean_squared_error: 0.0137\n",
            "Epoch 65/70\n",
            "108/108 [==============================] - 1s 5ms/step - loss: 2.3374e-04 - root_mean_squared_error: 0.0153 - val_loss: 1.3863e-04 - val_root_mean_squared_error: 0.0118\n",
            "Epoch 66/70\n",
            "108/108 [==============================] - 1s 5ms/step - loss: 2.4222e-04 - root_mean_squared_error: 0.0156 - val_loss: 1.5551e-04 - val_root_mean_squared_error: 0.0125\n",
            "Epoch 67/70\n",
            "108/108 [==============================] - 1s 5ms/step - loss: 2.4978e-04 - root_mean_squared_error: 0.0158 - val_loss: 1.6339e-04 - val_root_mean_squared_error: 0.0128\n",
            "Epoch 68/70\n",
            "108/108 [==============================] - 1s 5ms/step - loss: 2.2791e-04 - root_mean_squared_error: 0.0151 - val_loss: 1.7119e-04 - val_root_mean_squared_error: 0.0131\n",
            "Epoch 69/70\n",
            "108/108 [==============================] - 1s 5ms/step - loss: 2.6911e-04 - root_mean_squared_error: 0.0164 - val_loss: 1.7449e-04 - val_root_mean_squared_error: 0.0132\n",
            "Epoch 70/70\n",
            "108/108 [==============================] - 1s 5ms/step - loss: 2.1694e-04 - root_mean_squared_error: 0.0147 - val_loss: 1.7023e-04 - val_root_mean_squared_error: 0.0130\n"
          ],
          "name": "stdout"
        },
        {
          "output_type": "execute_result",
          "data": {
            "text/plain": [
              "<tensorflow.python.keras.callbacks.History at 0x7f0dcfadc470>"
            ]
          },
          "metadata": {
            "tags": []
          },
          "execution_count": 110
        }
      ]
    },
    {
      "cell_type": "code",
      "metadata": {
        "id": "fPkCedO1wEwb",
        "colab_type": "code",
        "colab": {
          "base_uri": "https://localhost:8080/",
          "height": 606
        },
        "outputId": "d968c13c-36de-47c8-a459-a16067862b54"
      },
      "source": [
        "## 결과확인\n",
        "prediction = model.predict(test_dataset)\n",
        "plt.figure(figsize=(20,10))\n",
        "plt.plot(testY)\n",
        "plt.plot(prediction)\n",
        "plt.xlabel(\"Time Period\")\n",
        "plt.ylabel(\"Stock Price\")\n",
        "plt.legend(['real', 'prediction'])\n",
        "plt.show()"
      ],
      "execution_count": 111,
      "outputs": [
        {
          "output_type": "display_data",
          "data": {
            "image/png": "[encoded data removed]",
            "text/plain": [
              "<Figure size 1440x720 with 1 Axes>"
            ]
          },
          "metadata": {
            "tags": [],
            "needs_background": "light"
          }
        }
      ]
    },
    {
      "cell_type": "code",
      "metadata": {
        "id": "z7qwbjIzA-rf",
        "colab_type": "code",
        "colab": {}
      },
      "source": [
        "## MinMax scaling 값 복원\n",
        "def restore_value(value):\n",
        "  return value * (denom + 1e-7) + min"
      ],
      "execution_count": 129,
      "outputs": []
    },
    {
      "cell_type": "code",
      "metadata": {
        "id": "S2jcsE4EjJu4",
        "colab_type": "code",
        "colab": {}
      },
      "source": [
        "# 최종가격 비교(예측, 실제)\n",
        "final_predict = prediction[-1]"
      ],
      "execution_count": 112,
      "outputs": []
    },
    {
      "cell_type": "code",
      "metadata": {
        "id": "u4Dt0Kp2pABC",
        "colab_type": "code",
        "colab": {
          "base_uri": "https://localhost:8080/",
          "height": 36
        },
        "outputId": "88decebd-b3e8-4017-d501-ecf3880bf3c7"
      },
      "source": [
        "restore_value(final_predict), restore_value(testY[-1])"
      ],
      "execution_count": 130,
      "outputs": [
        {
          "output_type": "execute_result",
          "data": {
            "text/plain": [
              "(array([119859.08], dtype=float32), array([122500.], dtype=float32))"
            ]
          },
          "metadata": {
            "tags": []
          },
          "execution_count": 130
        }
      ]
    },
    {
      "cell_type": "code",
      "metadata": {
        "id": "qCN_oftypBS_",
        "colab_type": "code",
        "colab": {
          "base_uri": "https://localhost:8080/",
          "height": 36
        },
        "outputId": "119c934a-9110-4456-9199-f7f3968db4de"
      },
      "source": [
        "#월요일 가격 예상\n",
        "last_7day = xy[-7:]\n",
        "last_7day.shape"
      ],
      "execution_count": 134,
      "outputs": [
        {
          "output_type": "execute_result",
          "data": {
            "text/plain": [
              "(7, 5)"
            ]
          },
          "metadata": {
            "tags": []
          },
          "execution_count": 134
        }
      ]
    },
    {
      "cell_type": "code",
      "metadata": {
        "id": "S2AoDr17BY1I",
        "colab_type": "code",
        "colab": {
          "base_uri": "https://localhost:8080/",
          "height": 36
        },
        "outputId": "f1aaac4d-721e-464b-f66f-207aac355dcb"
      },
      "source": [
        "last_7day = np.reshape(last_7day, (1, 7, 5))\n",
        "last_7day.shape"
      ],
      "execution_count": 136,
      "outputs": [
        {
          "output_type": "execute_result",
          "data": {
            "text/plain": [
              "(1, 7, 5)"
            ]
          },
          "metadata": {
            "tags": []
          },
          "execution_count": 136
        }
      ]
    },
    {
      "cell_type": "code",
      "metadata": {
        "id": "a2e981_6B_jp",
        "colab_type": "code",
        "colab": {}
      },
      "source": [
        "monday = model.predict(last_7day)"
      ],
      "execution_count": 137,
      "outputs": []
    },
    {
      "cell_type": "code",
      "metadata": {
        "id": "nvgUGiLNCE4C",
        "colab_type": "code",
        "colab": {
          "base_uri": "https://localhost:8080/",
          "height": 36
        },
        "outputId": "7a94eb26-94d6-4620-dd12-3ab9ab82d411"
      },
      "source": [
        "restore_value(monday)"
      ],
      "execution_count": 138,
      "outputs": [
        {
          "output_type": "execute_result",
          "data": {
            "text/plain": [
              "array([[123152.34]], dtype=float32)"
            ]
          },
          "metadata": {
            "tags": []
          },
          "execution_count": 138
        }
      ]
    },
    {
      "cell_type": "code",
      "metadata": {
        "id": "-CfZodWFCHTy",
        "colab_type": "code",
        "colab": {}
      },
      "source": [
        ""
      ],
      "execution_count": null,
      "outputs": []
    }
  ]
}